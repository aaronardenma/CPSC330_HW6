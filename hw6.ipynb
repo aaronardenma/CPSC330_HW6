{
 "cells": [
  {
   "cell_type": "code",
   "execution_count": 1,
   "metadata": {
    "deletable": false,
    "editable": false
   },
   "outputs": [],
   "source": [
    "# Initialize Otter\n",
    "import otter\n",
    "grader = otter.Notebook(\"hw6.ipynb\")"
   ]
  },
  {
   "cell_type": "markdown",
   "metadata": {},
   "source": [
    "# CPSC 330 - Applied Machine Learning \n",
    "\n",
    "## Homework 6: Clustering\n",
    "### Associated lectures: Lectures 15 and 16\n",
    "\n",
    "**Due date: [Mar 17, 11:59 pm](https://github.com/UBC-CS/cpsc330-2024W2?tab=readme-ov-file#deliverable-due-dates-tentative)**"
   ]
  },
  {
   "cell_type": "markdown",
   "metadata": {},
   "source": [
    "## Imports <a name=\"im\"></a>"
   ]
  },
  {
   "cell_type": "code",
   "execution_count": 2,
   "metadata": {},
   "outputs": [],
   "source": [
    "import os\n",
    "from hashlib import sha1\n",
    "\n",
    "import matplotlib.pyplot as plt\n",
    "import numpy as np\n",
    "import pandas as pd\n",
    "\n",
    "%matplotlib inline\n",
    "pd.set_option(\"display.max_colwidth\", 0)"
   ]
  },
  {
   "cell_type": "markdown",
   "metadata": {},
   "source": [
    "<br><br><br><br>"
   ]
  },
  {
   "cell_type": "markdown",
   "metadata": {
    "deletable": false,
    "editable": false,
    "slideshow": {
     "slide_type": ""
    },
    "tags": []
   },
   "source": [
    "<!-- BEGIN QUESTION -->\n",
    "\n",
    "<div class=\"alert alert-info\">\n",
    "    \n",
    "## Submission instructions\n",
    "<hr>\n",
    "rubric={points:6}\n",
    "\n",
    "**Please be aware that this homework assignment requires installation of several packages in your course environment. It's possible that you'll encounter installation challenges, which might be frustrating. However, remember that solving these issues is not wasting time but it is an essential skill for anyone aspiring to work in data science or machine learning.**\n",
    "\n",
    "Follow the [homework submission instructions](https://github.com/UBC-CS/cpsc330-2024W2/blob/main/docs/homework_instructions.md). \n",
    "\n",
    "**You may work in a group on this homework and submit your assignment as a group.** Below are some instructions on working as a group.  \n",
    "- The maximum group size is 4. \n",
    "- Use group work as an opportunity to collaborate and learn new things from each other. \n",
    "- Be respectful to each other and make sure you understand all the concepts in the assignment well. \n",
    "- It's your responsibility to make sure that the assignment is submitted by one of the group members before the deadline. \n",
    "- You can find the instructions on how to do group submission on Gradescope [here](https://help.gradescope.com/article/m5qz2xsnjy-student-add-group-members).\n",
    "\n",
    "\n",
    "When you are ready to submit your assignment do the following:\n",
    "\n",
    "1. Run all cells in your notebook to make sure there are no errors by doing `Kernel -> Restart Kernel and Clear All Outputs` and then `Run -> Run All Cells`. \n",
    "2. Notebooks with cell execution numbers out of order will have marks deducted. Notebooks without the output displayed may not be graded at all (because we need to see the output in order to grade your work).\n",
    "3. Upload the assignment using Gradescope's drag and drop tool. Check out this [Gradescope Student Guide](https://lthub.ubc.ca/guides/gradescope-student-guide/) if you need help with Gradescope submission.\n",
    "4. Make sure that the plots and output are rendered properly in your submitted file. \n",
    "5. If the .ipynb file is too big and doesn't render on Gradescope, also upload a pdf or html in addition to the .ipynb. If the pdf or html also fail to render on Gradescope, please create two files for your homework: hw6a.ipynb with Exercise 1 and hw6b.ipynb with Exercises 2 and 3 and submit these two files in your submission.  \n",
    "</div>\n",
    "\n",
    "_Points:_ 6"
   ]
  },
  {
   "cell_type": "markdown",
   "metadata": {
    "deletable": false,
    "editable": false
   },
   "source": [
    "<!-- END QUESTION -->\n",
    "\n",
    "<br><br><br><br>"
   ]
  },
  {
   "cell_type": "markdown",
   "metadata": {},
   "source": [
    "## Exercise 1: Document clustering warm-up\n",
    "<hr>\n",
    "\n",
    "In this homework, we will explore a popular application of clustering called [**document clustering**](https://en.wikipedia.org/wiki/Document_clustering). A large amount of unlabeled text data is available out there (e.g., news, recipes, online Q&A, tweets), and clustering is a commonly used technique to organize this data in a meaningful way. \n",
    "\n",
    "As a warm up, in this exercise you will cluster sentences from a toy corpus. Later in the homework you will work with a real corpus. \n",
    "\n",
    "The code below extracts introductory sentences of Wikipedia articles on a set of queries. To run the code successfully, you will need the `wikipedia` package installed in the course environment. \n",
    "\n",
    "```\n",
    "conda activate cpsc330\n",
    "conda install -c conda-forge wikipedia\n",
    "```\n",
    "\n",
    "\n",
    "**Your tasks:**\n",
    "\n",
    "Run the code below which \n",
    "- extracts content of Wikipedia articles on a set of queries\n",
    "- tokenizes the text (i.e., separates sentences) and \n",
    "- stores the 2nd sentence in each article as a document representing that article\n",
    "\n",
    "> Feel free to experiment with Wikipedia queries of your choice. But stick to the provided list for the final submission so that it's easier for the TAs to grade your submission.\n",
    "\n",
    "> For tokenization we are using the `nltk` package. If you do not have this package in the course environment, you will have to install it.\n",
    "\n",
    "```\n",
    "conda activate cpsc330\n",
    "conda install -c anaconda nltk\n",
    "```\n",
    "\n",
    "Even if you have the package installed via the course `conda` environment, you might have to download `nltk` pre-trained models, which can be done with the code below."
   ]
  },
  {
   "cell_type": "code",
   "execution_count": 3,
   "metadata": {},
   "outputs": [
    {
     "name": "stderr",
     "output_type": "stream",
     "text": [
      "[nltk_data] Downloading package punkt to /Users/aaronma/nltk_data...\n",
      "[nltk_data]   Package punkt is already up-to-date!\n",
      "[nltk_data] Downloading package punkt_tab to\n",
      "[nltk_data]     /Users/aaronma/nltk_data...\n",
      "[nltk_data]   Package punkt_tab is already up-to-date!\n"
     ]
    },
    {
     "data": {
      "text/plain": [
       "True"
      ]
     },
     "execution_count": 3,
     "metadata": {},
     "output_type": "execute_result"
    }
   ],
   "source": [
    "import nltk\n",
    "\n",
    "nltk.download(\"punkt\")\n",
    "nltk.download('punkt_tab')"
   ]
  },
  {
   "cell_type": "code",
   "execution_count": 4,
   "metadata": {},
   "outputs": [
    {
     "data": {
      "text/html": [
       "<div>\n",
       "<style scoped>\n",
       "    .dataframe tbody tr th:only-of-type {\n",
       "        vertical-align: middle;\n",
       "    }\n",
       "\n",
       "    .dataframe tbody tr th {\n",
       "        vertical-align: top;\n",
       "    }\n",
       "\n",
       "    .dataframe thead th {\n",
       "        text-align: right;\n",
       "    }\n",
       "</style>\n",
       "<table border=\"1\" class=\"dataframe\">\n",
       "  <thead>\n",
       "    <tr style=\"text-align: right;\">\n",
       "      <th></th>\n",
       "      <th>wiki query</th>\n",
       "      <th>text</th>\n",
       "      <th>n_words</th>\n",
       "    </tr>\n",
       "  </thead>\n",
       "  <tbody>\n",
       "    <tr>\n",
       "      <th>0</th>\n",
       "      <td>baguette food</td>\n",
       "      <td>In 1986, it was established as a subsidiary of Shani Co., Ltd., and opened the first 'Paris Baguette' in Gwanghwamun, Seoul, and the first high-end bakery 'Paris Croissant' in Itaewon the following year, and the corporate name changed to the same as the brand name.</td>\n",
       "      <td>54</td>\n",
       "    </tr>\n",
       "    <tr>\n",
       "      <th>1</th>\n",
       "      <td>banana bread food</td>\n",
       "      <td>It is often a moist and sweet quick bread but some recipes are yeast raised.</td>\n",
       "      <td>16</td>\n",
       "    </tr>\n",
       "    <tr>\n",
       "      <th>2</th>\n",
       "      <td>bread food</td>\n",
       "      <td>Throughout recorded history and around the world, it has been an important part of many cultures' diets.</td>\n",
       "      <td>20</td>\n",
       "    </tr>\n",
       "    <tr>\n",
       "      <th>3</th>\n",
       "      <td>data science</td>\n",
       "      <td>Data science also integrates domain knowledge from the underlying application domain (e.g., natural sciences, information technology, and medicine).</td>\n",
       "      <td>24</td>\n",
       "    </tr>\n",
       "    <tr>\n",
       "      <th>4</th>\n",
       "      <td>sports analytics</td>\n",
       "      <td>The term \"sports analytics\" was popularized in mainstream sports culture following the release of the 2011 film Moneyball.</td>\n",
       "      <td>21</td>\n",
       "    </tr>\n",
       "    <tr>\n",
       "      <th>5</th>\n",
       "      <td>football sport</td>\n",
       "      <td>Often competitive and organized, sports use, maintain, or improve physical ability and skills.</td>\n",
       "      <td>17</td>\n",
       "    </tr>\n",
       "    <tr>\n",
       "      <th>6</th>\n",
       "      <td>ice hockey</td>\n",
       "      <td>It belongs to a family of sports called hockey.</td>\n",
       "      <td>10</td>\n",
       "    </tr>\n",
       "  </tbody>\n",
       "</table>\n",
       "</div>"
      ],
      "text/plain": [
       "          wiki query  \\\n",
       "0  baguette food       \n",
       "1  banana bread food   \n",
       "2  bread food          \n",
       "3  data science        \n",
       "4  sports analytics    \n",
       "5  football sport      \n",
       "6  ice hockey          \n",
       "\n",
       "                                                                                                                                                                                                                                                                        text  \\\n",
       "0  In 1986, it was established as a subsidiary of Shani Co., Ltd., and opened the first 'Paris Baguette' in Gwanghwamun, Seoul, and the first high-end bakery 'Paris Croissant' in Itaewon the following year, and the corporate name changed to the same as the brand name.   \n",
       "1  It is often a moist and sweet quick bread but some recipes are yeast raised.                                                                                                                                                                                                \n",
       "2  Throughout recorded history and around the world, it has been an important part of many cultures' diets.                                                                                                                                                                    \n",
       "3  Data science also integrates domain knowledge from the underlying application domain (e.g., natural sciences, information technology, and medicine).                                                                                                                        \n",
       "4  The term \"sports analytics\" was popularized in mainstream sports culture following the release of the 2011 film Moneyball.                                                                                                                                                  \n",
       "5  Often competitive and organized, sports use, maintain, or improve physical ability and skills.                                                                                                                                                                              \n",
       "6  It belongs to a family of sports called hockey.                                                                                                                                                                                                                             \n",
       "\n",
       "   n_words  \n",
       "0  54       \n",
       "1  16       \n",
       "2  20       \n",
       "3  24       \n",
       "4  21       \n",
       "5  17       \n",
       "6  10       "
      ]
     },
     "execution_count": 4,
     "metadata": {},
     "output_type": "execute_result"
    }
   ],
   "source": [
    "import wikipedia\n",
    "from nltk.tokenize import sent_tokenize, word_tokenize\n",
    "\n",
    "queries = [\n",
    "    \"baguette food\",\n",
    "    \"banana bread food\",\n",
    "    \"bread food\",\n",
    "    \"data science\",\n",
    "    \"sports analytics\",\n",
    "    \"football sport\",\n",
    "    \"ice hockey\",\n",
    "]\n",
    "\n",
    "wiki_dict = {\"wiki query\": [], \"text\": [], \"n_words\": []}\n",
    "for i in range(len(queries)):\n",
    "    text = sent_tokenize(wikipedia.page(queries[i]).content)[1]\n",
    "    wiki_dict[\"text\"].append(text)\n",
    "    wiki_dict[\"n_words\"].append(len(word_tokenize(text)))\n",
    "    wiki_dict[\"wiki query\"].append(queries[i])\n",
    "\n",
    "wiki_df = pd.DataFrame(wiki_dict)\n",
    "wiki_df"
   ]
  },
  {
   "cell_type": "markdown",
   "metadata": {},
   "source": [
    "Our toy corpus has six toy documents (`text` column in the dataframe) extracted from Wikipedia queries. "
   ]
  },
  {
   "cell_type": "markdown",
   "metadata": {},
   "source": [
    "<br><br>"
   ]
  },
  {
   "cell_type": "markdown",
   "metadata": {
    "deletable": false,
    "editable": false
   },
   "source": [
    "<!-- BEGIN QUESTION -->\n",
    "\n",
    "### 1.1 How many clusters? \n",
    "rubric={points}\n",
    "\n",
    "\n",
    "**Your tasks:**\n",
    "\n",
    "1. If you are asked to cluster the documents from this toy corpus manually, how many clusters would you identify and how would you label each cluster?   "
   ]
  },
  {
   "cell_type": "markdown",
   "metadata": {
    "deletable": false,
    "editable": false
   },
   "source": [
    "<div class=\"alert alert-warning\">\n",
    "\n",
    "Solution_1.1\n",
    "    \n",
    "</div>\n",
    "\n",
    "_Points:_ 1"
   ]
  },
  {
   "cell_type": "markdown",
   "metadata": {},
   "source": [
    "3 clusters:\n",
    "1. Food\n",
    "2. Technology\n",
    "3. Sports"
   ]
  },
  {
   "cell_type": "markdown",
   "metadata": {
    "deletable": false,
    "editable": false
   },
   "source": [
    "<!-- END QUESTION -->\n",
    "\n",
    "<br><br>"
   ]
  },
  {
   "cell_type": "markdown",
   "metadata": {
    "deletable": false,
    "editable": false
   },
   "source": [
    "<!-- BEGIN QUESTION -->\n",
    "\n",
    "### 1.2 `KMeans` with bag-of-words representation \n",
    "rubric={points}\n",
    "\n",
    "In the lecture, we saw that data representation plays a crucial role in clustering. Changing flattened representation of images to feature vectors extracted from pre-trained models greatly improved the quality of clustering. \n",
    "\n",
    "What kind of representation is suitable for text data? We have used bag-of-words representation to numerically encode text data before, where each document is represented with a vector of word frequencies. \n",
    "\n",
    "Let's try clustering documents with this simplistic representation.  \n",
    "\n",
    "**Your tasks:**\n",
    "\n",
    "1. Create bag-of-words representation using [`CountVectorizer`](https://scikit-learn.org/stable/modules/generated/sklearn.feature_extraction.text.CountVectorizer.html) with default arguments for the `text` column in `wiki_df` above.\n",
    "2. Cluster the encoded documents with [`KMeans` clustering](https://scikit-learn.org/stable/modules/generated/sklearn.cluster.KMeans.html). Use `random_state=42` (for reproducibility) and set `n_clusters` to the number you identified in the previous exercise.\n",
    "3. Store the clustering labels in `kmeans_bow_labels` variable below. "
   ]
  },
  {
   "cell_type": "markdown",
   "metadata": {
    "deletable": false,
    "editable": false
   },
   "source": [
    "<div class=\"alert alert-warning\">\n",
    "\n",
    "Solution_1.2\n",
    "    \n",
    "</div>\n",
    "\n",
    "_Points:_ 4"
   ]
  },
  {
   "cell_type": "code",
   "execution_count": 5,
   "metadata": {
    "tags": []
   },
   "outputs": [
    {
     "data": {
      "text/html": [
       "<div>\n",
       "<style scoped>\n",
       "    .dataframe tbody tr th:only-of-type {\n",
       "        vertical-align: middle;\n",
       "    }\n",
       "\n",
       "    .dataframe tbody tr th {\n",
       "        vertical-align: top;\n",
       "    }\n",
       "\n",
       "    .dataframe thead th {\n",
       "        text-align: right;\n",
       "    }\n",
       "</style>\n",
       "<table border=\"1\" class=\"dataframe\">\n",
       "  <thead>\n",
       "    <tr style=\"text-align: right;\">\n",
       "      <th></th>\n",
       "      <th>1986</th>\n",
       "      <th>2011</th>\n",
       "      <th>ability</th>\n",
       "      <th>also</th>\n",
       "      <th>an</th>\n",
       "      <th>analytics</th>\n",
       "      <th>and</th>\n",
       "      <th>application</th>\n",
       "      <th>are</th>\n",
       "      <th>around</th>\n",
       "      <th>...</th>\n",
       "      <th>term</th>\n",
       "      <th>the</th>\n",
       "      <th>throughout</th>\n",
       "      <th>to</th>\n",
       "      <th>underlying</th>\n",
       "      <th>use</th>\n",
       "      <th>was</th>\n",
       "      <th>world</th>\n",
       "      <th>year</th>\n",
       "      <th>yeast</th>\n",
       "    </tr>\n",
       "    <tr>\n",
       "      <th>text</th>\n",
       "      <th></th>\n",
       "      <th></th>\n",
       "      <th></th>\n",
       "      <th></th>\n",
       "      <th></th>\n",
       "      <th></th>\n",
       "      <th></th>\n",
       "      <th></th>\n",
       "      <th></th>\n",
       "      <th></th>\n",
       "      <th></th>\n",
       "      <th></th>\n",
       "      <th></th>\n",
       "      <th></th>\n",
       "      <th></th>\n",
       "      <th></th>\n",
       "      <th></th>\n",
       "      <th></th>\n",
       "      <th></th>\n",
       "      <th></th>\n",
       "      <th></th>\n",
       "    </tr>\n",
       "  </thead>\n",
       "  <tbody>\n",
       "    <tr>\n",
       "      <th>In 1986, it was established as a subsidiary of Shani Co., Ltd., and opened the first 'Paris Baguette' in Gwanghwamun, Seoul, and the first high-end bakery 'Paris Croissant' in Itaewon the following year, and the corporate name changed to the same as the brand name.</th>\n",
       "      <td>1</td>\n",
       "      <td>0</td>\n",
       "      <td>0</td>\n",
       "      <td>0</td>\n",
       "      <td>0</td>\n",
       "      <td>0</td>\n",
       "      <td>3</td>\n",
       "      <td>0</td>\n",
       "      <td>0</td>\n",
       "      <td>0</td>\n",
       "      <td>...</td>\n",
       "      <td>0</td>\n",
       "      <td>6</td>\n",
       "      <td>0</td>\n",
       "      <td>1</td>\n",
       "      <td>0</td>\n",
       "      <td>0</td>\n",
       "      <td>1</td>\n",
       "      <td>0</td>\n",
       "      <td>1</td>\n",
       "      <td>0</td>\n",
       "    </tr>\n",
       "    <tr>\n",
       "      <th>It is often a moist and sweet quick bread but some recipes are yeast raised.</th>\n",
       "      <td>0</td>\n",
       "      <td>0</td>\n",
       "      <td>0</td>\n",
       "      <td>0</td>\n",
       "      <td>0</td>\n",
       "      <td>0</td>\n",
       "      <td>1</td>\n",
       "      <td>0</td>\n",
       "      <td>1</td>\n",
       "      <td>0</td>\n",
       "      <td>...</td>\n",
       "      <td>0</td>\n",
       "      <td>0</td>\n",
       "      <td>0</td>\n",
       "      <td>0</td>\n",
       "      <td>0</td>\n",
       "      <td>0</td>\n",
       "      <td>0</td>\n",
       "      <td>0</td>\n",
       "      <td>0</td>\n",
       "      <td>1</td>\n",
       "    </tr>\n",
       "    <tr>\n",
       "      <th>Throughout recorded history and around the world, it has been an important part of many cultures' diets.</th>\n",
       "      <td>0</td>\n",
       "      <td>0</td>\n",
       "      <td>0</td>\n",
       "      <td>0</td>\n",
       "      <td>1</td>\n",
       "      <td>0</td>\n",
       "      <td>1</td>\n",
       "      <td>0</td>\n",
       "      <td>0</td>\n",
       "      <td>1</td>\n",
       "      <td>...</td>\n",
       "      <td>0</td>\n",
       "      <td>1</td>\n",
       "      <td>1</td>\n",
       "      <td>0</td>\n",
       "      <td>0</td>\n",
       "      <td>0</td>\n",
       "      <td>0</td>\n",
       "      <td>1</td>\n",
       "      <td>0</td>\n",
       "      <td>0</td>\n",
       "    </tr>\n",
       "    <tr>\n",
       "      <th>Data science also integrates domain knowledge from the underlying application domain (e.g., natural sciences, information technology, and medicine).</th>\n",
       "      <td>0</td>\n",
       "      <td>0</td>\n",
       "      <td>0</td>\n",
       "      <td>1</td>\n",
       "      <td>0</td>\n",
       "      <td>0</td>\n",
       "      <td>1</td>\n",
       "      <td>1</td>\n",
       "      <td>0</td>\n",
       "      <td>0</td>\n",
       "      <td>...</td>\n",
       "      <td>0</td>\n",
       "      <td>1</td>\n",
       "      <td>0</td>\n",
       "      <td>0</td>\n",
       "      <td>1</td>\n",
       "      <td>0</td>\n",
       "      <td>0</td>\n",
       "      <td>0</td>\n",
       "      <td>0</td>\n",
       "      <td>0</td>\n",
       "    </tr>\n",
       "    <tr>\n",
       "      <th>The term \"sports analytics\" was popularized in mainstream sports culture following the release of the 2011 film Moneyball.</th>\n",
       "      <td>0</td>\n",
       "      <td>1</td>\n",
       "      <td>0</td>\n",
       "      <td>0</td>\n",
       "      <td>0</td>\n",
       "      <td>1</td>\n",
       "      <td>0</td>\n",
       "      <td>0</td>\n",
       "      <td>0</td>\n",
       "      <td>0</td>\n",
       "      <td>...</td>\n",
       "      <td>1</td>\n",
       "      <td>3</td>\n",
       "      <td>0</td>\n",
       "      <td>0</td>\n",
       "      <td>0</td>\n",
       "      <td>0</td>\n",
       "      <td>1</td>\n",
       "      <td>0</td>\n",
       "      <td>0</td>\n",
       "      <td>0</td>\n",
       "    </tr>\n",
       "    <tr>\n",
       "      <th>Often competitive and organized, sports use, maintain, or improve physical ability and skills.</th>\n",
       "      <td>0</td>\n",
       "      <td>0</td>\n",
       "      <td>1</td>\n",
       "      <td>0</td>\n",
       "      <td>0</td>\n",
       "      <td>0</td>\n",
       "      <td>2</td>\n",
       "      <td>0</td>\n",
       "      <td>0</td>\n",
       "      <td>0</td>\n",
       "      <td>...</td>\n",
       "      <td>0</td>\n",
       "      <td>0</td>\n",
       "      <td>0</td>\n",
       "      <td>0</td>\n",
       "      <td>0</td>\n",
       "      <td>1</td>\n",
       "      <td>0</td>\n",
       "      <td>0</td>\n",
       "      <td>0</td>\n",
       "      <td>0</td>\n",
       "    </tr>\n",
       "    <tr>\n",
       "      <th>It belongs to a family of sports called hockey.</th>\n",
       "      <td>0</td>\n",
       "      <td>0</td>\n",
       "      <td>0</td>\n",
       "      <td>0</td>\n",
       "      <td>0</td>\n",
       "      <td>0</td>\n",
       "      <td>0</td>\n",
       "      <td>0</td>\n",
       "      <td>0</td>\n",
       "      <td>0</td>\n",
       "      <td>...</td>\n",
       "      <td>0</td>\n",
       "      <td>0</td>\n",
       "      <td>0</td>\n",
       "      <td>1</td>\n",
       "      <td>0</td>\n",
       "      <td>0</td>\n",
       "      <td>0</td>\n",
       "      <td>0</td>\n",
       "      <td>0</td>\n",
       "      <td>0</td>\n",
       "    </tr>\n",
       "  </tbody>\n",
       "</table>\n",
       "<p>7 rows × 94 columns</p>\n",
       "</div>"
      ],
      "text/plain": [
       "                                                                                                                                                                                                                                                                           1986  \\\n",
       "text                                                                                                                                                                                                                                                                              \n",
       "In 1986, it was established as a subsidiary of Shani Co., Ltd., and opened the first 'Paris Baguette' in Gwanghwamun, Seoul, and the first high-end bakery 'Paris Croissant' in Itaewon the following year, and the corporate name changed to the same as the brand name.  1      \n",
       "It is often a moist and sweet quick bread but some recipes are yeast raised.                                                                                                                                                                                               0      \n",
       "Throughout recorded history and around the world, it has been an important part of many cultures' diets.                                                                                                                                                                   0      \n",
       "Data science also integrates domain knowledge from the underlying application domain (e.g., natural sciences, information technology, and medicine).                                                                                                                       0      \n",
       "The term \"sports analytics\" was popularized in mainstream sports culture following the release of the 2011 film Moneyball.                                                                                                                                                 0      \n",
       "Often competitive and organized, sports use, maintain, or improve physical ability and skills.                                                                                                                                                                             0      \n",
       "It belongs to a family of sports called hockey.                                                                                                                                                                                                                            0      \n",
       "\n",
       "                                                                                                                                                                                                                                                                           2011  \\\n",
       "text                                                                                                                                                                                                                                                                              \n",
       "In 1986, it was established as a subsidiary of Shani Co., Ltd., and opened the first 'Paris Baguette' in Gwanghwamun, Seoul, and the first high-end bakery 'Paris Croissant' in Itaewon the following year, and the corporate name changed to the same as the brand name.  0      \n",
       "It is often a moist and sweet quick bread but some recipes are yeast raised.                                                                                                                                                                                               0      \n",
       "Throughout recorded history and around the world, it has been an important part of many cultures' diets.                                                                                                                                                                   0      \n",
       "Data science also integrates domain knowledge from the underlying application domain (e.g., natural sciences, information technology, and medicine).                                                                                                                       0      \n",
       "The term \"sports analytics\" was popularized in mainstream sports culture following the release of the 2011 film Moneyball.                                                                                                                                                 1      \n",
       "Often competitive and organized, sports use, maintain, or improve physical ability and skills.                                                                                                                                                                             0      \n",
       "It belongs to a family of sports called hockey.                                                                                                                                                                                                                            0      \n",
       "\n",
       "                                                                                                                                                                                                                                                                           ability  \\\n",
       "text                                                                                                                                                                                                                                                                                 \n",
       "In 1986, it was established as a subsidiary of Shani Co., Ltd., and opened the first 'Paris Baguette' in Gwanghwamun, Seoul, and the first high-end bakery 'Paris Croissant' in Itaewon the following year, and the corporate name changed to the same as the brand name.  0         \n",
       "It is often a moist and sweet quick bread but some recipes are yeast raised.                                                                                                                                                                                               0         \n",
       "Throughout recorded history and around the world, it has been an important part of many cultures' diets.                                                                                                                                                                   0         \n",
       "Data science also integrates domain knowledge from the underlying application domain (e.g., natural sciences, information technology, and medicine).                                                                                                                       0         \n",
       "The term \"sports analytics\" was popularized in mainstream sports culture following the release of the 2011 film Moneyball.                                                                                                                                                 0         \n",
       "Often competitive and organized, sports use, maintain, or improve physical ability and skills.                                                                                                                                                                             1         \n",
       "It belongs to a family of sports called hockey.                                                                                                                                                                                                                            0         \n",
       "\n",
       "                                                                                                                                                                                                                                                                           also  \\\n",
       "text                                                                                                                                                                                                                                                                              \n",
       "In 1986, it was established as a subsidiary of Shani Co., Ltd., and opened the first 'Paris Baguette' in Gwanghwamun, Seoul, and the first high-end bakery 'Paris Croissant' in Itaewon the following year, and the corporate name changed to the same as the brand name.  0      \n",
       "It is often a moist and sweet quick bread but some recipes are yeast raised.                                                                                                                                                                                               0      \n",
       "Throughout recorded history and around the world, it has been an important part of many cultures' diets.                                                                                                                                                                   0      \n",
       "Data science also integrates domain knowledge from the underlying application domain (e.g., natural sciences, information technology, and medicine).                                                                                                                       1      \n",
       "The term \"sports analytics\" was popularized in mainstream sports culture following the release of the 2011 film Moneyball.                                                                                                                                                 0      \n",
       "Often competitive and organized, sports use, maintain, or improve physical ability and skills.                                                                                                                                                                             0      \n",
       "It belongs to a family of sports called hockey.                                                                                                                                                                                                                            0      \n",
       "\n",
       "                                                                                                                                                                                                                                                                           an  \\\n",
       "text                                                                                                                                                                                                                                                                            \n",
       "In 1986, it was established as a subsidiary of Shani Co., Ltd., and opened the first 'Paris Baguette' in Gwanghwamun, Seoul, and the first high-end bakery 'Paris Croissant' in Itaewon the following year, and the corporate name changed to the same as the brand name.  0    \n",
       "It is often a moist and sweet quick bread but some recipes are yeast raised.                                                                                                                                                                                               0    \n",
       "Throughout recorded history and around the world, it has been an important part of many cultures' diets.                                                                                                                                                                   1    \n",
       "Data science also integrates domain knowledge from the underlying application domain (e.g., natural sciences, information technology, and medicine).                                                                                                                       0    \n",
       "The term \"sports analytics\" was popularized in mainstream sports culture following the release of the 2011 film Moneyball.                                                                                                                                                 0    \n",
       "Often competitive and organized, sports use, maintain, or improve physical ability and skills.                                                                                                                                                                             0    \n",
       "It belongs to a family of sports called hockey.                                                                                                                                                                                                                            0    \n",
       "\n",
       "                                                                                                                                                                                                                                                                           analytics  \\\n",
       "text                                                                                                                                                                                                                                                                                   \n",
       "In 1986, it was established as a subsidiary of Shani Co., Ltd., and opened the first 'Paris Baguette' in Gwanghwamun, Seoul, and the first high-end bakery 'Paris Croissant' in Itaewon the following year, and the corporate name changed to the same as the brand name.  0           \n",
       "It is often a moist and sweet quick bread but some recipes are yeast raised.                                                                                                                                                                                               0           \n",
       "Throughout recorded history and around the world, it has been an important part of many cultures' diets.                                                                                                                                                                   0           \n",
       "Data science also integrates domain knowledge from the underlying application domain (e.g., natural sciences, information technology, and medicine).                                                                                                                       0           \n",
       "The term \"sports analytics\" was popularized in mainstream sports culture following the release of the 2011 film Moneyball.                                                                                                                                                 1           \n",
       "Often competitive and organized, sports use, maintain, or improve physical ability and skills.                                                                                                                                                                             0           \n",
       "It belongs to a family of sports called hockey.                                                                                                                                                                                                                            0           \n",
       "\n",
       "                                                                                                                                                                                                                                                                           and  \\\n",
       "text                                                                                                                                                                                                                                                                             \n",
       "In 1986, it was established as a subsidiary of Shani Co., Ltd., and opened the first 'Paris Baguette' in Gwanghwamun, Seoul, and the first high-end bakery 'Paris Croissant' in Itaewon the following year, and the corporate name changed to the same as the brand name.  3     \n",
       "It is often a moist and sweet quick bread but some recipes are yeast raised.                                                                                                                                                                                               1     \n",
       "Throughout recorded history and around the world, it has been an important part of many cultures' diets.                                                                                                                                                                   1     \n",
       "Data science also integrates domain knowledge from the underlying application domain (e.g., natural sciences, information technology, and medicine).                                                                                                                       1     \n",
       "The term \"sports analytics\" was popularized in mainstream sports culture following the release of the 2011 film Moneyball.                                                                                                                                                 0     \n",
       "Often competitive and organized, sports use, maintain, or improve physical ability and skills.                                                                                                                                                                             2     \n",
       "It belongs to a family of sports called hockey.                                                                                                                                                                                                                            0     \n",
       "\n",
       "                                                                                                                                                                                                                                                                           application  \\\n",
       "text                                                                                                                                                                                                                                                                                     \n",
       "In 1986, it was established as a subsidiary of Shani Co., Ltd., and opened the first 'Paris Baguette' in Gwanghwamun, Seoul, and the first high-end bakery 'Paris Croissant' in Itaewon the following year, and the corporate name changed to the same as the brand name.  0             \n",
       "It is often a moist and sweet quick bread but some recipes are yeast raised.                                                                                                                                                                                               0             \n",
       "Throughout recorded history and around the world, it has been an important part of many cultures' diets.                                                                                                                                                                   0             \n",
       "Data science also integrates domain knowledge from the underlying application domain (e.g., natural sciences, information technology, and medicine).                                                                                                                       1             \n",
       "The term \"sports analytics\" was popularized in mainstream sports culture following the release of the 2011 film Moneyball.                                                                                                                                                 0             \n",
       "Often competitive and organized, sports use, maintain, or improve physical ability and skills.                                                                                                                                                                             0             \n",
       "It belongs to a family of sports called hockey.                                                                                                                                                                                                                            0             \n",
       "\n",
       "                                                                                                                                                                                                                                                                           are  \\\n",
       "text                                                                                                                                                                                                                                                                             \n",
       "In 1986, it was established as a subsidiary of Shani Co., Ltd., and opened the first 'Paris Baguette' in Gwanghwamun, Seoul, and the first high-end bakery 'Paris Croissant' in Itaewon the following year, and the corporate name changed to the same as the brand name.  0     \n",
       "It is often a moist and sweet quick bread but some recipes are yeast raised.                                                                                                                                                                                               1     \n",
       "Throughout recorded history and around the world, it has been an important part of many cultures' diets.                                                                                                                                                                   0     \n",
       "Data science also integrates domain knowledge from the underlying application domain (e.g., natural sciences, information technology, and medicine).                                                                                                                       0     \n",
       "The term \"sports analytics\" was popularized in mainstream sports culture following the release of the 2011 film Moneyball.                                                                                                                                                 0     \n",
       "Often competitive and organized, sports use, maintain, or improve physical ability and skills.                                                                                                                                                                             0     \n",
       "It belongs to a family of sports called hockey.                                                                                                                                                                                                                            0     \n",
       "\n",
       "                                                                                                                                                                                                                                                                           around  \\\n",
       "text                                                                                                                                                                                                                                                                                \n",
       "In 1986, it was established as a subsidiary of Shani Co., Ltd., and opened the first 'Paris Baguette' in Gwanghwamun, Seoul, and the first high-end bakery 'Paris Croissant' in Itaewon the following year, and the corporate name changed to the same as the brand name.  0        \n",
       "It is often a moist and sweet quick bread but some recipes are yeast raised.                                                                                                                                                                                               0        \n",
       "Throughout recorded history and around the world, it has been an important part of many cultures' diets.                                                                                                                                                                   1        \n",
       "Data science also integrates domain knowledge from the underlying application domain (e.g., natural sciences, information technology, and medicine).                                                                                                                       0        \n",
       "The term \"sports analytics\" was popularized in mainstream sports culture following the release of the 2011 film Moneyball.                                                                                                                                                 0        \n",
       "Often competitive and organized, sports use, maintain, or improve physical ability and skills.                                                                                                                                                                             0        \n",
       "It belongs to a family of sports called hockey.                                                                                                                                                                                                                            0        \n",
       "\n",
       "                                                                                                                                                                                                                                                                           ...  \\\n",
       "text                                                                                                                                                                                                                                                                       ...   \n",
       "In 1986, it was established as a subsidiary of Shani Co., Ltd., and opened the first 'Paris Baguette' in Gwanghwamun, Seoul, and the first high-end bakery 'Paris Croissant' in Itaewon the following year, and the corporate name changed to the same as the brand name.  ...   \n",
       "It is often a moist and sweet quick bread but some recipes are yeast raised.                                                                                                                                                                                               ...   \n",
       "Throughout recorded history and around the world, it has been an important part of many cultures' diets.                                                                                                                                                                   ...   \n",
       "Data science also integrates domain knowledge from the underlying application domain (e.g., natural sciences, information technology, and medicine).                                                                                                                       ...   \n",
       "The term \"sports analytics\" was popularized in mainstream sports culture following the release of the 2011 film Moneyball.                                                                                                                                                 ...   \n",
       "Often competitive and organized, sports use, maintain, or improve physical ability and skills.                                                                                                                                                                             ...   \n",
       "It belongs to a family of sports called hockey.                                                                                                                                                                                                                            ...   \n",
       "\n",
       "                                                                                                                                                                                                                                                                           term  \\\n",
       "text                                                                                                                                                                                                                                                                              \n",
       "In 1986, it was established as a subsidiary of Shani Co., Ltd., and opened the first 'Paris Baguette' in Gwanghwamun, Seoul, and the first high-end bakery 'Paris Croissant' in Itaewon the following year, and the corporate name changed to the same as the brand name.  0      \n",
       "It is often a moist and sweet quick bread but some recipes are yeast raised.                                                                                                                                                                                               0      \n",
       "Throughout recorded history and around the world, it has been an important part of many cultures' diets.                                                                                                                                                                   0      \n",
       "Data science also integrates domain knowledge from the underlying application domain (e.g., natural sciences, information technology, and medicine).                                                                                                                       0      \n",
       "The term \"sports analytics\" was popularized in mainstream sports culture following the release of the 2011 film Moneyball.                                                                                                                                                 1      \n",
       "Often competitive and organized, sports use, maintain, or improve physical ability and skills.                                                                                                                                                                             0      \n",
       "It belongs to a family of sports called hockey.                                                                                                                                                                                                                            0      \n",
       "\n",
       "                                                                                                                                                                                                                                                                           the  \\\n",
       "text                                                                                                                                                                                                                                                                             \n",
       "In 1986, it was established as a subsidiary of Shani Co., Ltd., and opened the first 'Paris Baguette' in Gwanghwamun, Seoul, and the first high-end bakery 'Paris Croissant' in Itaewon the following year, and the corporate name changed to the same as the brand name.  6     \n",
       "It is often a moist and sweet quick bread but some recipes are yeast raised.                                                                                                                                                                                               0     \n",
       "Throughout recorded history and around the world, it has been an important part of many cultures' diets.                                                                                                                                                                   1     \n",
       "Data science also integrates domain knowledge from the underlying application domain (e.g., natural sciences, information technology, and medicine).                                                                                                                       1     \n",
       "The term \"sports analytics\" was popularized in mainstream sports culture following the release of the 2011 film Moneyball.                                                                                                                                                 3     \n",
       "Often competitive and organized, sports use, maintain, or improve physical ability and skills.                                                                                                                                                                             0     \n",
       "It belongs to a family of sports called hockey.                                                                                                                                                                                                                            0     \n",
       "\n",
       "                                                                                                                                                                                                                                                                           throughout  \\\n",
       "text                                                                                                                                                                                                                                                                                    \n",
       "In 1986, it was established as a subsidiary of Shani Co., Ltd., and opened the first 'Paris Baguette' in Gwanghwamun, Seoul, and the first high-end bakery 'Paris Croissant' in Itaewon the following year, and the corporate name changed to the same as the brand name.  0            \n",
       "It is often a moist and sweet quick bread but some recipes are yeast raised.                                                                                                                                                                                               0            \n",
       "Throughout recorded history and around the world, it has been an important part of many cultures' diets.                                                                                                                                                                   1            \n",
       "Data science also integrates domain knowledge from the underlying application domain (e.g., natural sciences, information technology, and medicine).                                                                                                                       0            \n",
       "The term \"sports analytics\" was popularized in mainstream sports culture following the release of the 2011 film Moneyball.                                                                                                                                                 0            \n",
       "Often competitive and organized, sports use, maintain, or improve physical ability and skills.                                                                                                                                                                             0            \n",
       "It belongs to a family of sports called hockey.                                                                                                                                                                                                                            0            \n",
       "\n",
       "                                                                                                                                                                                                                                                                           to  \\\n",
       "text                                                                                                                                                                                                                                                                            \n",
       "In 1986, it was established as a subsidiary of Shani Co., Ltd., and opened the first 'Paris Baguette' in Gwanghwamun, Seoul, and the first high-end bakery 'Paris Croissant' in Itaewon the following year, and the corporate name changed to the same as the brand name.  1    \n",
       "It is often a moist and sweet quick bread but some recipes are yeast raised.                                                                                                                                                                                               0    \n",
       "Throughout recorded history and around the world, it has been an important part of many cultures' diets.                                                                                                                                                                   0    \n",
       "Data science also integrates domain knowledge from the underlying application domain (e.g., natural sciences, information technology, and medicine).                                                                                                                       0    \n",
       "The term \"sports analytics\" was popularized in mainstream sports culture following the release of the 2011 film Moneyball.                                                                                                                                                 0    \n",
       "Often competitive and organized, sports use, maintain, or improve physical ability and skills.                                                                                                                                                                             0    \n",
       "It belongs to a family of sports called hockey.                                                                                                                                                                                                                            1    \n",
       "\n",
       "                                                                                                                                                                                                                                                                           underlying  \\\n",
       "text                                                                                                                                                                                                                                                                                    \n",
       "In 1986, it was established as a subsidiary of Shani Co., Ltd., and opened the first 'Paris Baguette' in Gwanghwamun, Seoul, and the first high-end bakery 'Paris Croissant' in Itaewon the following year, and the corporate name changed to the same as the brand name.  0            \n",
       "It is often a moist and sweet quick bread but some recipes are yeast raised.                                                                                                                                                                                               0            \n",
       "Throughout recorded history and around the world, it has been an important part of many cultures' diets.                                                                                                                                                                   0            \n",
       "Data science also integrates domain knowledge from the underlying application domain (e.g., natural sciences, information technology, and medicine).                                                                                                                       1            \n",
       "The term \"sports analytics\" was popularized in mainstream sports culture following the release of the 2011 film Moneyball.                                                                                                                                                 0            \n",
       "Often competitive and organized, sports use, maintain, or improve physical ability and skills.                                                                                                                                                                             0            \n",
       "It belongs to a family of sports called hockey.                                                                                                                                                                                                                            0            \n",
       "\n",
       "                                                                                                                                                                                                                                                                           use  \\\n",
       "text                                                                                                                                                                                                                                                                             \n",
       "In 1986, it was established as a subsidiary of Shani Co., Ltd., and opened the first 'Paris Baguette' in Gwanghwamun, Seoul, and the first high-end bakery 'Paris Croissant' in Itaewon the following year, and the corporate name changed to the same as the brand name.  0     \n",
       "It is often a moist and sweet quick bread but some recipes are yeast raised.                                                                                                                                                                                               0     \n",
       "Throughout recorded history and around the world, it has been an important part of many cultures' diets.                                                                                                                                                                   0     \n",
       "Data science also integrates domain knowledge from the underlying application domain (e.g., natural sciences, information technology, and medicine).                                                                                                                       0     \n",
       "The term \"sports analytics\" was popularized in mainstream sports culture following the release of the 2011 film Moneyball.                                                                                                                                                 0     \n",
       "Often competitive and organized, sports use, maintain, or improve physical ability and skills.                                                                                                                                                                             1     \n",
       "It belongs to a family of sports called hockey.                                                                                                                                                                                                                            0     \n",
       "\n",
       "                                                                                                                                                                                                                                                                           was  \\\n",
       "text                                                                                                                                                                                                                                                                             \n",
       "In 1986, it was established as a subsidiary of Shani Co., Ltd., and opened the first 'Paris Baguette' in Gwanghwamun, Seoul, and the first high-end bakery 'Paris Croissant' in Itaewon the following year, and the corporate name changed to the same as the brand name.  1     \n",
       "It is often a moist and sweet quick bread but some recipes are yeast raised.                                                                                                                                                                                               0     \n",
       "Throughout recorded history and around the world, it has been an important part of many cultures' diets.                                                                                                                                                                   0     \n",
       "Data science also integrates domain knowledge from the underlying application domain (e.g., natural sciences, information technology, and medicine).                                                                                                                       0     \n",
       "The term \"sports analytics\" was popularized in mainstream sports culture following the release of the 2011 film Moneyball.                                                                                                                                                 1     \n",
       "Often competitive and organized, sports use, maintain, or improve physical ability and skills.                                                                                                                                                                             0     \n",
       "It belongs to a family of sports called hockey.                                                                                                                                                                                                                            0     \n",
       "\n",
       "                                                                                                                                                                                                                                                                           world  \\\n",
       "text                                                                                                                                                                                                                                                                               \n",
       "In 1986, it was established as a subsidiary of Shani Co., Ltd., and opened the first 'Paris Baguette' in Gwanghwamun, Seoul, and the first high-end bakery 'Paris Croissant' in Itaewon the following year, and the corporate name changed to the same as the brand name.  0       \n",
       "It is often a moist and sweet quick bread but some recipes are yeast raised.                                                                                                                                                                                               0       \n",
       "Throughout recorded history and around the world, it has been an important part of many cultures' diets.                                                                                                                                                                   1       \n",
       "Data science also integrates domain knowledge from the underlying application domain (e.g., natural sciences, information technology, and medicine).                                                                                                                       0       \n",
       "The term \"sports analytics\" was popularized in mainstream sports culture following the release of the 2011 film Moneyball.                                                                                                                                                 0       \n",
       "Often competitive and organized, sports use, maintain, or improve physical ability and skills.                                                                                                                                                                             0       \n",
       "It belongs to a family of sports called hockey.                                                                                                                                                                                                                            0       \n",
       "\n",
       "                                                                                                                                                                                                                                                                           year  \\\n",
       "text                                                                                                                                                                                                                                                                              \n",
       "In 1986, it was established as a subsidiary of Shani Co., Ltd., and opened the first 'Paris Baguette' in Gwanghwamun, Seoul, and the first high-end bakery 'Paris Croissant' in Itaewon the following year, and the corporate name changed to the same as the brand name.  1      \n",
       "It is often a moist and sweet quick bread but some recipes are yeast raised.                                                                                                                                                                                               0      \n",
       "Throughout recorded history and around the world, it has been an important part of many cultures' diets.                                                                                                                                                                   0      \n",
       "Data science also integrates domain knowledge from the underlying application domain (e.g., natural sciences, information technology, and medicine).                                                                                                                       0      \n",
       "The term \"sports analytics\" was popularized in mainstream sports culture following the release of the 2011 film Moneyball.                                                                                                                                                 0      \n",
       "Often competitive and organized, sports use, maintain, or improve physical ability and skills.                                                                                                                                                                             0      \n",
       "It belongs to a family of sports called hockey.                                                                                                                                                                                                                            0      \n",
       "\n",
       "                                                                                                                                                                                                                                                                           yeast  \n",
       "text                                                                                                                                                                                                                                                                              \n",
       "In 1986, it was established as a subsidiary of Shani Co., Ltd., and opened the first 'Paris Baguette' in Gwanghwamun, Seoul, and the first high-end bakery 'Paris Croissant' in Itaewon the following year, and the corporate name changed to the same as the brand name.  0      \n",
       "It is often a moist and sweet quick bread but some recipes are yeast raised.                                                                                                                                                                                               1      \n",
       "Throughout recorded history and around the world, it has been an important part of many cultures' diets.                                                                                                                                                                   0      \n",
       "Data science also integrates domain knowledge from the underlying application domain (e.g., natural sciences, information technology, and medicine).                                                                                                                       0      \n",
       "The term \"sports analytics\" was popularized in mainstream sports culture following the release of the 2011 film Moneyball.                                                                                                                                                 0      \n",
       "Often competitive and organized, sports use, maintain, or improve physical ability and skills.                                                                                                                                                                             0      \n",
       "It belongs to a family of sports called hockey.                                                                                                                                                                                                                            0      \n",
       "\n",
       "[7 rows x 94 columns]"
      ]
     },
     "execution_count": 5,
     "metadata": {},
     "output_type": "execute_result"
    }
   ],
   "source": [
    "from sklearn.feature_extraction.text import CountVectorizer\n",
    "\n",
    "vec = CountVectorizer()\n",
    "X_counts = vec.fit_transform(wiki_df[\"text\"])\n",
    "bow_df = pd.DataFrame(\n",
    "    X_counts.toarray(), columns=vec.get_feature_names_out(), index=wiki_df[\"text\"]\n",
    ")\n",
    "bow_df"
   ]
  },
  {
   "cell_type": "code",
   "execution_count": 6,
   "metadata": {
    "tags": []
   },
   "outputs": [],
   "source": [
    "from sklearn.datasets import make_blobs\n",
    "from sklearn.cluster import KMeans\n",
    "\n",
    "X, y = make_blobs(n_samples=7, centers=3, n_features=94, random_state=42)\n",
    "\n",
    "kmeans = KMeans(n_clusters=3, n_init='auto', random_state=42)\n",
    "kmeans.fit(X);\n",
    "\n",
    "kmeans_bow_labels = kmeans.labels_"
   ]
  },
  {
   "cell_type": "code",
   "execution_count": 7,
   "metadata": {
    "tags": []
   },
   "outputs": [
    {
     "data": {
      "text/html": [
       "<div>\n",
       "<style scoped>\n",
       "    .dataframe tbody tr th:only-of-type {\n",
       "        vertical-align: middle;\n",
       "    }\n",
       "\n",
       "    .dataframe tbody tr th {\n",
       "        vertical-align: top;\n",
       "    }\n",
       "\n",
       "    .dataframe thead th {\n",
       "        text-align: right;\n",
       "    }\n",
       "</style>\n",
       "<table border=\"1\" class=\"dataframe\">\n",
       "  <thead>\n",
       "    <tr style=\"text-align: right;\">\n",
       "      <th></th>\n",
       "      <th>wiki query</th>\n",
       "      <th>text</th>\n",
       "      <th>n_words</th>\n",
       "      <th>bow_kmeans</th>\n",
       "    </tr>\n",
       "  </thead>\n",
       "  <tbody>\n",
       "    <tr>\n",
       "      <th>0</th>\n",
       "      <td>baguette food</td>\n",
       "      <td>In 1986, it was established as a subsidiary of Shani Co., Ltd., and opened the first 'Paris Baguette' in Gwanghwamun, Seoul, and the first high-end bakery 'Paris Croissant' in Itaewon the following year, and the corporate name changed to the same as the brand name.</td>\n",
       "      <td>54</td>\n",
       "      <td>0</td>\n",
       "    </tr>\n",
       "    <tr>\n",
       "      <th>1</th>\n",
       "      <td>banana bread food</td>\n",
       "      <td>It is often a moist and sweet quick bread but some recipes are yeast raised.</td>\n",
       "      <td>16</td>\n",
       "      <td>2</td>\n",
       "    </tr>\n",
       "    <tr>\n",
       "      <th>2</th>\n",
       "      <td>bread food</td>\n",
       "      <td>Throughout recorded history and around the world, it has been an important part of many cultures' diets.</td>\n",
       "      <td>20</td>\n",
       "      <td>0</td>\n",
       "    </tr>\n",
       "    <tr>\n",
       "      <th>3</th>\n",
       "      <td>data science</td>\n",
       "      <td>Data science also integrates domain knowledge from the underlying application domain (e.g., natural sciences, information technology, and medicine).</td>\n",
       "      <td>24</td>\n",
       "      <td>1</td>\n",
       "    </tr>\n",
       "    <tr>\n",
       "      <th>4</th>\n",
       "      <td>sports analytics</td>\n",
       "      <td>The term \"sports analytics\" was popularized in mainstream sports culture following the release of the 2011 film Moneyball.</td>\n",
       "      <td>21</td>\n",
       "      <td>1</td>\n",
       "    </tr>\n",
       "    <tr>\n",
       "      <th>5</th>\n",
       "      <td>football sport</td>\n",
       "      <td>Often competitive and organized, sports use, maintain, or improve physical ability and skills.</td>\n",
       "      <td>17</td>\n",
       "      <td>0</td>\n",
       "    </tr>\n",
       "    <tr>\n",
       "      <th>6</th>\n",
       "      <td>ice hockey</td>\n",
       "      <td>It belongs to a family of sports called hockey.</td>\n",
       "      <td>10</td>\n",
       "      <td>2</td>\n",
       "    </tr>\n",
       "  </tbody>\n",
       "</table>\n",
       "</div>"
      ],
      "text/plain": [
       "          wiki query  \\\n",
       "0  baguette food       \n",
       "1  banana bread food   \n",
       "2  bread food          \n",
       "3  data science        \n",
       "4  sports analytics    \n",
       "5  football sport      \n",
       "6  ice hockey          \n",
       "\n",
       "                                                                                                                                                                                                                                                                        text  \\\n",
       "0  In 1986, it was established as a subsidiary of Shani Co., Ltd., and opened the first 'Paris Baguette' in Gwanghwamun, Seoul, and the first high-end bakery 'Paris Croissant' in Itaewon the following year, and the corporate name changed to the same as the brand name.   \n",
       "1  It is often a moist and sweet quick bread but some recipes are yeast raised.                                                                                                                                                                                                \n",
       "2  Throughout recorded history and around the world, it has been an important part of many cultures' diets.                                                                                                                                                                    \n",
       "3  Data science also integrates domain knowledge from the underlying application domain (e.g., natural sciences, information technology, and medicine).                                                                                                                        \n",
       "4  The term \"sports analytics\" was popularized in mainstream sports culture following the release of the 2011 film Moneyball.                                                                                                                                                  \n",
       "5  Often competitive and organized, sports use, maintain, or improve physical ability and skills.                                                                                                                                                                              \n",
       "6  It belongs to a family of sports called hockey.                                                                                                                                                                                                                             \n",
       "\n",
       "   n_words  bow_kmeans  \n",
       "0  54       0           \n",
       "1  16       2           \n",
       "2  20       0           \n",
       "3  24       1           \n",
       "4  21       1           \n",
       "5  17       0           \n",
       "6  10       2           "
      ]
     },
     "execution_count": 7,
     "metadata": {},
     "output_type": "execute_result"
    }
   ],
   "source": [
    "wiki_df[\"bow_kmeans\"] = kmeans_bow_labels\n",
    "wiki_df"
   ]
  },
  {
   "cell_type": "markdown",
   "metadata": {
    "deletable": false,
    "editable": false
   },
   "source": [
    "<!-- END QUESTION -->\n",
    "\n",
    "<br><br>"
   ]
  },
  {
   "cell_type": "markdown",
   "metadata": {
    "deletable": false,
    "editable": false
   },
   "source": [
    "<!-- BEGIN QUESTION -->\n",
    "\n",
    "### 1.3 Sentence embedding representation\n",
    "rubric={points}\n",
    "\n",
    "Bag-of-words representation is limited in that it does not take into account word ordering and context. There are other richer and more expressive representations of text which can be extracted using transfer learning. In this lab, we will use one such representation called sentence embedding representation, which uses deep learning models to generate dense, fixed-length vector representations for sentences. We will extract such representations using sentence transformer package. Sentence embedding takes into account context of words and semantic meaning of sentences and it is likely to work better when we are interested in clustering sentences based on their semantic similarity. \n",
    "\n",
    "```\n",
    "conda activate cpsc330\n",
    "conda install pytorch::pytorch torchvision torchaudio -c pytorch\n",
    "conda install -c conda-forge sentence-transformers\n",
    "```\n",
    "\n",
    "**Your tasks:**\n",
    "\n",
    "1. Run the code below to create sentence embedding representation of documents in our toy corpus. \n",
    "2. Cluster documents in our toy corpus encoded with this representation (`emb_sents`) and `KMeans` with following arguments: \n",
    "    - `random_state=42` (for reproducibility)\n",
    "    - `n_clusters`=the number of clusters you identified in 1.1\n",
    "3. Store the clustering labels in `kmeans_emb_labels` variable below. "
   ]
  },
  {
   "cell_type": "code",
   "execution_count": 8,
   "metadata": {
    "deletable": false,
    "editable": false
   },
   "outputs": [],
   "source": [
    "from sentence_transformers import SentenceTransformer\n",
    "\n",
    "embedder = SentenceTransformer(\"paraphrase-distilroberta-base-v1\")\n",
    "\n",
    "# If this cell gives an error, try updating transformers with\n",
    "# pip install transformers -U"
   ]
  },
  {
   "cell_type": "code",
   "execution_count": 9,
   "metadata": {
    "deletable": false,
    "editable": false,
    "metadata": {
     "tags": [
      "otter_ignore"
     ]
    }
   },
   "outputs": [
    {
     "data": {
      "text/html": [
       "<div>\n",
       "<style scoped>\n",
       "    .dataframe tbody tr th:only-of-type {\n",
       "        vertical-align: middle;\n",
       "    }\n",
       "\n",
       "    .dataframe tbody tr th {\n",
       "        vertical-align: top;\n",
       "    }\n",
       "\n",
       "    .dataframe thead th {\n",
       "        text-align: right;\n",
       "    }\n",
       "</style>\n",
       "<table border=\"1\" class=\"dataframe\">\n",
       "  <thead>\n",
       "    <tr style=\"text-align: right;\">\n",
       "      <th></th>\n",
       "      <th>0</th>\n",
       "      <th>1</th>\n",
       "      <th>2</th>\n",
       "      <th>3</th>\n",
       "      <th>4</th>\n",
       "      <th>5</th>\n",
       "      <th>6</th>\n",
       "      <th>7</th>\n",
       "      <th>8</th>\n",
       "      <th>9</th>\n",
       "      <th>...</th>\n",
       "      <th>758</th>\n",
       "      <th>759</th>\n",
       "      <th>760</th>\n",
       "      <th>761</th>\n",
       "      <th>762</th>\n",
       "      <th>763</th>\n",
       "      <th>764</th>\n",
       "      <th>765</th>\n",
       "      <th>766</th>\n",
       "      <th>767</th>\n",
       "    </tr>\n",
       "  </thead>\n",
       "  <tbody>\n",
       "    <tr>\n",
       "      <th>0</th>\n",
       "      <td>0.000693</td>\n",
       "      <td>0.295712</td>\n",
       "      <td>0.101010</td>\n",
       "      <td>-0.036998</td>\n",
       "      <td>-0.143787</td>\n",
       "      <td>0.150098</td>\n",
       "      <td>0.047676</td>\n",
       "      <td>-0.037659</td>\n",
       "      <td>-0.012557</td>\n",
       "      <td>-0.135149</td>\n",
       "      <td>...</td>\n",
       "      <td>0.209796</td>\n",
       "      <td>0.066315</td>\n",
       "      <td>0.192004</td>\n",
       "      <td>-0.208440</td>\n",
       "      <td>-0.174074</td>\n",
       "      <td>0.048892</td>\n",
       "      <td>-0.494626</td>\n",
       "      <td>0.100555</td>\n",
       "      <td>0.081855</td>\n",
       "      <td>-0.125856</td>\n",
       "    </tr>\n",
       "    <tr>\n",
       "      <th>1</th>\n",
       "      <td>-0.202058</td>\n",
       "      <td>0.320748</td>\n",
       "      <td>0.190346</td>\n",
       "      <td>0.232201</td>\n",
       "      <td>0.600543</td>\n",
       "      <td>0.376622</td>\n",
       "      <td>-0.018205</td>\n",
       "      <td>-0.027148</td>\n",
       "      <td>-0.076680</td>\n",
       "      <td>0.381882</td>\n",
       "      <td>...</td>\n",
       "      <td>0.213062</td>\n",
       "      <td>-0.080009</td>\n",
       "      <td>0.422756</td>\n",
       "      <td>0.072724</td>\n",
       "      <td>0.016025</td>\n",
       "      <td>-0.014596</td>\n",
       "      <td>-0.202858</td>\n",
       "      <td>-0.162947</td>\n",
       "      <td>-0.190418</td>\n",
       "      <td>-0.002013</td>\n",
       "    </tr>\n",
       "    <tr>\n",
       "      <th>2</th>\n",
       "      <td>-0.056684</td>\n",
       "      <td>0.222303</td>\n",
       "      <td>0.048026</td>\n",
       "      <td>0.053724</td>\n",
       "      <td>0.304125</td>\n",
       "      <td>0.396496</td>\n",
       "      <td>-0.000866</td>\n",
       "      <td>-0.261328</td>\n",
       "      <td>0.180089</td>\n",
       "      <td>0.177299</td>\n",
       "      <td>...</td>\n",
       "      <td>0.343995</td>\n",
       "      <td>-0.412435</td>\n",
       "      <td>-0.010878</td>\n",
       "      <td>0.022342</td>\n",
       "      <td>0.371977</td>\n",
       "      <td>0.108193</td>\n",
       "      <td>0.385294</td>\n",
       "      <td>0.147794</td>\n",
       "      <td>-0.077854</td>\n",
       "      <td>0.222679</td>\n",
       "    </tr>\n",
       "    <tr>\n",
       "      <th>3</th>\n",
       "      <td>0.270839</td>\n",
       "      <td>0.187923</td>\n",
       "      <td>-0.010778</td>\n",
       "      <td>0.318688</td>\n",
       "      <td>-0.092012</td>\n",
       "      <td>-0.204806</td>\n",
       "      <td>0.038101</td>\n",
       "      <td>-0.117648</td>\n",
       "      <td>0.084056</td>\n",
       "      <td>-0.170613</td>\n",
       "      <td>...</td>\n",
       "      <td>0.069944</td>\n",
       "      <td>-0.222987</td>\n",
       "      <td>0.092472</td>\n",
       "      <td>0.309445</td>\n",
       "      <td>0.289248</td>\n",
       "      <td>0.021022</td>\n",
       "      <td>-0.032694</td>\n",
       "      <td>-0.624041</td>\n",
       "      <td>0.358924</td>\n",
       "      <td>-0.034093</td>\n",
       "    </tr>\n",
       "    <tr>\n",
       "      <th>4</th>\n",
       "      <td>-0.101732</td>\n",
       "      <td>-0.185133</td>\n",
       "      <td>-0.107289</td>\n",
       "      <td>0.148191</td>\n",
       "      <td>0.458464</td>\n",
       "      <td>-0.555427</td>\n",
       "      <td>-0.073999</td>\n",
       "      <td>0.001754</td>\n",
       "      <td>-0.172459</td>\n",
       "      <td>-0.072560</td>\n",
       "      <td>...</td>\n",
       "      <td>0.428589</td>\n",
       "      <td>-0.340837</td>\n",
       "      <td>-0.159756</td>\n",
       "      <td>0.388600</td>\n",
       "      <td>0.316263</td>\n",
       "      <td>0.090864</td>\n",
       "      <td>-0.162352</td>\n",
       "      <td>-0.225393</td>\n",
       "      <td>0.417017</td>\n",
       "      <td>-0.179008</td>\n",
       "    </tr>\n",
       "    <tr>\n",
       "      <th>5</th>\n",
       "      <td>0.124750</td>\n",
       "      <td>0.327760</td>\n",
       "      <td>0.287334</td>\n",
       "      <td>-0.108246</td>\n",
       "      <td>0.024023</td>\n",
       "      <td>-0.123068</td>\n",
       "      <td>0.256753</td>\n",
       "      <td>-0.186897</td>\n",
       "      <td>0.207025</td>\n",
       "      <td>0.225442</td>\n",
       "      <td>...</td>\n",
       "      <td>0.476354</td>\n",
       "      <td>-0.425226</td>\n",
       "      <td>0.153235</td>\n",
       "      <td>0.176923</td>\n",
       "      <td>0.036420</td>\n",
       "      <td>0.104009</td>\n",
       "      <td>-0.137497</td>\n",
       "      <td>0.265884</td>\n",
       "      <td>0.431444</td>\n",
       "      <td>0.173652</td>\n",
       "    </tr>\n",
       "    <tr>\n",
       "      <th>6</th>\n",
       "      <td>0.108902</td>\n",
       "      <td>0.087364</td>\n",
       "      <td>0.119847</td>\n",
       "      <td>-0.050133</td>\n",
       "      <td>0.240210</td>\n",
       "      <td>-0.082101</td>\n",
       "      <td>0.190988</td>\n",
       "      <td>0.436203</td>\n",
       "      <td>-0.085558</td>\n",
       "      <td>-0.012788</td>\n",
       "      <td>...</td>\n",
       "      <td>0.145414</td>\n",
       "      <td>0.160032</td>\n",
       "      <td>0.071931</td>\n",
       "      <td>0.147640</td>\n",
       "      <td>0.043789</td>\n",
       "      <td>0.253031</td>\n",
       "      <td>-0.009357</td>\n",
       "      <td>0.415206</td>\n",
       "      <td>0.142142</td>\n",
       "      <td>0.130365</td>\n",
       "    </tr>\n",
       "  </tbody>\n",
       "</table>\n",
       "<p>7 rows × 768 columns</p>\n",
       "</div>"
      ],
      "text/plain": [
       "          0         1         2         3         4         5         6  \\\n",
       "0  0.000693  0.295712  0.101010 -0.036998 -0.143787  0.150098  0.047676   \n",
       "1 -0.202058  0.320748  0.190346  0.232201  0.600543  0.376622 -0.018205   \n",
       "2 -0.056684  0.222303  0.048026  0.053724  0.304125  0.396496 -0.000866   \n",
       "3  0.270839  0.187923 -0.010778  0.318688 -0.092012 -0.204806  0.038101   \n",
       "4 -0.101732 -0.185133 -0.107289  0.148191  0.458464 -0.555427 -0.073999   \n",
       "5  0.124750  0.327760  0.287334 -0.108246  0.024023 -0.123068  0.256753   \n",
       "6  0.108902  0.087364  0.119847 -0.050133  0.240210 -0.082101  0.190988   \n",
       "\n",
       "          7         8         9  ...       758       759       760       761  \\\n",
       "0 -0.037659 -0.012557 -0.135149  ...  0.209796  0.066315  0.192004 -0.208440   \n",
       "1 -0.027148 -0.076680  0.381882  ...  0.213062 -0.080009  0.422756  0.072724   \n",
       "2 -0.261328  0.180089  0.177299  ...  0.343995 -0.412435 -0.010878  0.022342   \n",
       "3 -0.117648  0.084056 -0.170613  ...  0.069944 -0.222987  0.092472  0.309445   \n",
       "4  0.001754 -0.172459 -0.072560  ...  0.428589 -0.340837 -0.159756  0.388600   \n",
       "5 -0.186897  0.207025  0.225442  ...  0.476354 -0.425226  0.153235  0.176923   \n",
       "6  0.436203 -0.085558 -0.012788  ...  0.145414  0.160032  0.071931  0.147640   \n",
       "\n",
       "        762       763       764       765       766       767  \n",
       "0 -0.174074  0.048892 -0.494626  0.100555  0.081855 -0.125856  \n",
       "1  0.016025 -0.014596 -0.202858 -0.162947 -0.190418 -0.002013  \n",
       "2  0.371977  0.108193  0.385294  0.147794 -0.077854  0.222679  \n",
       "3  0.289248  0.021022 -0.032694 -0.624041  0.358924 -0.034093  \n",
       "4  0.316263  0.090864 -0.162352 -0.225393  0.417017 -0.179008  \n",
       "5  0.036420  0.104009 -0.137497  0.265884  0.431444  0.173652  \n",
       "6  0.043789  0.253031 -0.009357  0.415206  0.142142  0.130365  \n",
       "\n",
       "[7 rows x 768 columns]"
      ]
     },
     "execution_count": 9,
     "metadata": {},
     "output_type": "execute_result"
    }
   ],
   "source": [
    "emb_sents = embedder.encode(wiki_df[\"text\"])\n",
    "emb_sent_df = pd.DataFrame(emb_sents, index=wiki_df.index)\n",
    "emb_sent_df"
   ]
  },
  {
   "cell_type": "markdown",
   "metadata": {
    "deletable": false,
    "editable": false
   },
   "source": [
    "<div class=\"alert alert-warning\">\n",
    "\n",
    "Solution_1.3\n",
    "    \n",
    "</div>\n",
    "\n",
    "_Points:_ 3"
   ]
  },
  {
   "cell_type": "code",
   "execution_count": 10,
   "metadata": {
    "tags": []
   },
   "outputs": [],
   "source": [
    "emb_kmeans = KMeans(n_clusters=3, n_init='auto', random_state=42)\n",
    "emb_kmeans.fit(emb_sent_df);"
   ]
  },
  {
   "cell_type": "code",
   "execution_count": 11,
   "metadata": {
    "tags": []
   },
   "outputs": [],
   "source": [
    "kmeans_emb_labels = emb_kmeans.labels_"
   ]
  },
  {
   "cell_type": "code",
   "execution_count": 12,
   "metadata": {
    "tags": []
   },
   "outputs": [
    {
     "data": {
      "text/html": [
       "<div>\n",
       "<style scoped>\n",
       "    .dataframe tbody tr th:only-of-type {\n",
       "        vertical-align: middle;\n",
       "    }\n",
       "\n",
       "    .dataframe tbody tr th {\n",
       "        vertical-align: top;\n",
       "    }\n",
       "\n",
       "    .dataframe thead th {\n",
       "        text-align: right;\n",
       "    }\n",
       "</style>\n",
       "<table border=\"1\" class=\"dataframe\">\n",
       "  <thead>\n",
       "    <tr style=\"text-align: right;\">\n",
       "      <th></th>\n",
       "      <th>wiki query</th>\n",
       "      <th>text</th>\n",
       "      <th>n_words</th>\n",
       "      <th>bow_kmeans</th>\n",
       "      <th>emb_kmeans</th>\n",
       "    </tr>\n",
       "  </thead>\n",
       "  <tbody>\n",
       "    <tr>\n",
       "      <th>0</th>\n",
       "      <td>baguette food</td>\n",
       "      <td>In 1986, it was established as a subsidiary of Shani Co., Ltd., and opened the first 'Paris Baguette' in Gwanghwamun, Seoul, and the first high-end bakery 'Paris Croissant' in Itaewon the following year, and the corporate name changed to the same as the brand name.</td>\n",
       "      <td>54</td>\n",
       "      <td>0</td>\n",
       "      <td>2</td>\n",
       "    </tr>\n",
       "    <tr>\n",
       "      <th>1</th>\n",
       "      <td>banana bread food</td>\n",
       "      <td>It is often a moist and sweet quick bread but some recipes are yeast raised.</td>\n",
       "      <td>16</td>\n",
       "      <td>2</td>\n",
       "      <td>2</td>\n",
       "    </tr>\n",
       "    <tr>\n",
       "      <th>2</th>\n",
       "      <td>bread food</td>\n",
       "      <td>Throughout recorded history and around the world, it has been an important part of many cultures' diets.</td>\n",
       "      <td>20</td>\n",
       "      <td>0</td>\n",
       "      <td>0</td>\n",
       "    </tr>\n",
       "    <tr>\n",
       "      <th>3</th>\n",
       "      <td>data science</td>\n",
       "      <td>Data science also integrates domain knowledge from the underlying application domain (e.g., natural sciences, information technology, and medicine).</td>\n",
       "      <td>24</td>\n",
       "      <td>1</td>\n",
       "      <td>1</td>\n",
       "    </tr>\n",
       "    <tr>\n",
       "      <th>4</th>\n",
       "      <td>sports analytics</td>\n",
       "      <td>The term \"sports analytics\" was popularized in mainstream sports culture following the release of the 2011 film Moneyball.</td>\n",
       "      <td>21</td>\n",
       "      <td>1</td>\n",
       "      <td>1</td>\n",
       "    </tr>\n",
       "    <tr>\n",
       "      <th>5</th>\n",
       "      <td>football sport</td>\n",
       "      <td>Often competitive and organized, sports use, maintain, or improve physical ability and skills.</td>\n",
       "      <td>17</td>\n",
       "      <td>0</td>\n",
       "      <td>1</td>\n",
       "    </tr>\n",
       "    <tr>\n",
       "      <th>6</th>\n",
       "      <td>ice hockey</td>\n",
       "      <td>It belongs to a family of sports called hockey.</td>\n",
       "      <td>10</td>\n",
       "      <td>2</td>\n",
       "      <td>1</td>\n",
       "    </tr>\n",
       "  </tbody>\n",
       "</table>\n",
       "</div>"
      ],
      "text/plain": [
       "          wiki query  \\\n",
       "0  baguette food       \n",
       "1  banana bread food   \n",
       "2  bread food          \n",
       "3  data science        \n",
       "4  sports analytics    \n",
       "5  football sport      \n",
       "6  ice hockey          \n",
       "\n",
       "                                                                                                                                                                                                                                                                        text  \\\n",
       "0  In 1986, it was established as a subsidiary of Shani Co., Ltd., and opened the first 'Paris Baguette' in Gwanghwamun, Seoul, and the first high-end bakery 'Paris Croissant' in Itaewon the following year, and the corporate name changed to the same as the brand name.   \n",
       "1  It is often a moist and sweet quick bread but some recipes are yeast raised.                                                                                                                                                                                                \n",
       "2  Throughout recorded history and around the world, it has been an important part of many cultures' diets.                                                                                                                                                                    \n",
       "3  Data science also integrates domain knowledge from the underlying application domain (e.g., natural sciences, information technology, and medicine).                                                                                                                        \n",
       "4  The term \"sports analytics\" was popularized in mainstream sports culture following the release of the 2011 film Moneyball.                                                                                                                                                  \n",
       "5  Often competitive and organized, sports use, maintain, or improve physical ability and skills.                                                                                                                                                                              \n",
       "6  It belongs to a family of sports called hockey.                                                                                                                                                                                                                             \n",
       "\n",
       "   n_words  bow_kmeans  emb_kmeans  \n",
       "0  54       0           2           \n",
       "1  16       2           2           \n",
       "2  20       0           0           \n",
       "3  24       1           1           \n",
       "4  21       1           1           \n",
       "5  17       0           1           \n",
       "6  10       2           1           "
      ]
     },
     "execution_count": 12,
     "metadata": {},
     "output_type": "execute_result"
    }
   ],
   "source": [
    "wiki_df[\"emb_kmeans\"] = kmeans_emb_labels\n",
    "wiki_df"
   ]
  },
  {
   "cell_type": "markdown",
   "metadata": {
    "deletable": false,
    "editable": false
   },
   "source": [
    "<!-- END QUESTION -->\n",
    "\n",
    "<br><br>"
   ]
  },
  {
   "cell_type": "markdown",
   "metadata": {
    "deletable": false,
    "editable": false
   },
   "source": [
    "<!-- BEGIN QUESTION -->\n",
    "\n",
    "### 1.4 DBSCAN with cosine distance  \n",
    "rubric={points}\n",
    "\n",
    "Now try [`DBSCAN`](https://scikit-learn.org/stable/modules/generated/sklearn.cluster.DBSCAN.html) on our toy dataset. K-Means is kind of bound to the Euclidean distance because it is based on the notion of means. With `DBSCAN` we can try different distance metrics. In the context of text data, [cosine similarities](https://scikit-learn.org/stable/modules/metrics.html#cosine-similarity) or cosine distances tend to work well. Given vectors $u$ and $v$, the **cosine distance** between the vectors is defined as: \n",
    "\n",
    "$$distance_{cosine}(u,v) = 1 - (\\frac{u \\cdot v}{\\left\\lVert u\\right\\rVert_2 \\left\\lVert v\\right\\rVert_2})$$\n",
    "\n",
    "\n",
    "**Your tasks**\n",
    "\n",
    "1. Cluster documents in our toy corpus encoded with sentence embedding representation (`emb_sents`) and [DBSCAN](https://scikit-learn.org/stable/modules/generated/sklearn.cluster.DBSCAN.html?highlight=dbscan#sklearn.cluster.DBSCAN) with `metric='cosine'`. You will have to set appropriate values for the hyperparamters `eps` and `min_samples` to get meaningful clusters, as default values of these hyperparameters are unlikely to work well on this toy dataset.\n",
    "2. Store the clustering labels in the `dbscan_emb_labels` variable below. "
   ]
  },
  {
   "cell_type": "markdown",
   "metadata": {
    "deletable": false,
    "editable": false
   },
   "source": [
    "<div class=\"alert alert-warning\">\n",
    "\n",
    "Solution_1.4\n",
    "    \n",
    "</div>\n",
    "\n",
    "_Points:_ 4"
   ]
  },
  {
   "cell_type": "code",
   "execution_count": 13,
   "metadata": {
    "tags": []
   },
   "outputs": [],
   "source": [
    "from sklearn.datasets import make_moons\n",
    "from sklearn.cluster import DBSCAN\n",
    "\n",
    "dbscan = DBSCAN(eps=0.75, metric='cosine', min_samples=1)\n",
    "labels = dbscan.fit(emb_sents)"
   ]
  },
  {
   "cell_type": "code",
   "execution_count": 14,
   "metadata": {
    "tags": []
   },
   "outputs": [],
   "source": [
    "dbscan_emb_labels = dbscan.labels_"
   ]
  },
  {
   "cell_type": "code",
   "execution_count": 15,
   "metadata": {
    "tags": []
   },
   "outputs": [
    {
     "data": {
      "text/html": [
       "<div>\n",
       "<style scoped>\n",
       "    .dataframe tbody tr th:only-of-type {\n",
       "        vertical-align: middle;\n",
       "    }\n",
       "\n",
       "    .dataframe tbody tr th {\n",
       "        vertical-align: top;\n",
       "    }\n",
       "\n",
       "    .dataframe thead th {\n",
       "        text-align: right;\n",
       "    }\n",
       "</style>\n",
       "<table border=\"1\" class=\"dataframe\">\n",
       "  <thead>\n",
       "    <tr style=\"text-align: right;\">\n",
       "      <th></th>\n",
       "      <th>wiki query</th>\n",
       "      <th>text</th>\n",
       "      <th>n_words</th>\n",
       "      <th>bow_kmeans</th>\n",
       "      <th>emb_kmeans</th>\n",
       "      <th>emb_dbscan</th>\n",
       "    </tr>\n",
       "  </thead>\n",
       "  <tbody>\n",
       "    <tr>\n",
       "      <th>0</th>\n",
       "      <td>baguette food</td>\n",
       "      <td>In 1986, it was established as a subsidiary of Shani Co., Ltd., and opened the first 'Paris Baguette' in Gwanghwamun, Seoul, and the first high-end bakery 'Paris Croissant' in Itaewon the following year, and the corporate name changed to the same as the brand name.</td>\n",
       "      <td>54</td>\n",
       "      <td>0</td>\n",
       "      <td>2</td>\n",
       "      <td>0</td>\n",
       "    </tr>\n",
       "    <tr>\n",
       "      <th>1</th>\n",
       "      <td>banana bread food</td>\n",
       "      <td>It is often a moist and sweet quick bread but some recipes are yeast raised.</td>\n",
       "      <td>16</td>\n",
       "      <td>2</td>\n",
       "      <td>2</td>\n",
       "      <td>1</td>\n",
       "    </tr>\n",
       "    <tr>\n",
       "      <th>2</th>\n",
       "      <td>bread food</td>\n",
       "      <td>Throughout recorded history and around the world, it has been an important part of many cultures' diets.</td>\n",
       "      <td>20</td>\n",
       "      <td>0</td>\n",
       "      <td>0</td>\n",
       "      <td>2</td>\n",
       "    </tr>\n",
       "    <tr>\n",
       "      <th>3</th>\n",
       "      <td>data science</td>\n",
       "      <td>Data science also integrates domain knowledge from the underlying application domain (e.g., natural sciences, information technology, and medicine).</td>\n",
       "      <td>24</td>\n",
       "      <td>1</td>\n",
       "      <td>1</td>\n",
       "      <td>3</td>\n",
       "    </tr>\n",
       "    <tr>\n",
       "      <th>4</th>\n",
       "      <td>sports analytics</td>\n",
       "      <td>The term \"sports analytics\" was popularized in mainstream sports culture following the release of the 2011 film Moneyball.</td>\n",
       "      <td>21</td>\n",
       "      <td>1</td>\n",
       "      <td>1</td>\n",
       "      <td>3</td>\n",
       "    </tr>\n",
       "    <tr>\n",
       "      <th>5</th>\n",
       "      <td>football sport</td>\n",
       "      <td>Often competitive and organized, sports use, maintain, or improve physical ability and skills.</td>\n",
       "      <td>17</td>\n",
       "      <td>0</td>\n",
       "      <td>1</td>\n",
       "      <td>3</td>\n",
       "    </tr>\n",
       "    <tr>\n",
       "      <th>6</th>\n",
       "      <td>ice hockey</td>\n",
       "      <td>It belongs to a family of sports called hockey.</td>\n",
       "      <td>10</td>\n",
       "      <td>2</td>\n",
       "      <td>1</td>\n",
       "      <td>3</td>\n",
       "    </tr>\n",
       "  </tbody>\n",
       "</table>\n",
       "</div>"
      ],
      "text/plain": [
       "          wiki query  \\\n",
       "0  baguette food       \n",
       "1  banana bread food   \n",
       "2  bread food          \n",
       "3  data science        \n",
       "4  sports analytics    \n",
       "5  football sport      \n",
       "6  ice hockey          \n",
       "\n",
       "                                                                                                                                                                                                                                                                        text  \\\n",
       "0  In 1986, it was established as a subsidiary of Shani Co., Ltd., and opened the first 'Paris Baguette' in Gwanghwamun, Seoul, and the first high-end bakery 'Paris Croissant' in Itaewon the following year, and the corporate name changed to the same as the brand name.   \n",
       "1  It is often a moist and sweet quick bread but some recipes are yeast raised.                                                                                                                                                                                                \n",
       "2  Throughout recorded history and around the world, it has been an important part of many cultures' diets.                                                                                                                                                                    \n",
       "3  Data science also integrates domain knowledge from the underlying application domain (e.g., natural sciences, information technology, and medicine).                                                                                                                        \n",
       "4  The term \"sports analytics\" was popularized in mainstream sports culture following the release of the 2011 film Moneyball.                                                                                                                                                  \n",
       "5  Often competitive and organized, sports use, maintain, or improve physical ability and skills.                                                                                                                                                                              \n",
       "6  It belongs to a family of sports called hockey.                                                                                                                                                                                                                             \n",
       "\n",
       "   n_words  bow_kmeans  emb_kmeans  emb_dbscan  \n",
       "0  54       0           2           0           \n",
       "1  16       2           2           1           \n",
       "2  20       0           0           2           \n",
       "3  24       1           1           3           \n",
       "4  21       1           1           3           \n",
       "5  17       0           1           3           \n",
       "6  10       2           1           3           "
      ]
     },
     "execution_count": 15,
     "metadata": {},
     "output_type": "execute_result"
    }
   ],
   "source": [
    "wiki_df[\"emb_dbscan\"] = dbscan_emb_labels\n",
    "wiki_df"
   ]
  },
  {
   "cell_type": "markdown",
   "metadata": {
    "deletable": false,
    "editable": false
   },
   "source": [
    "<!-- END QUESTION -->\n",
    "\n",
    "<br><br>"
   ]
  },
  {
   "cell_type": "markdown",
   "metadata": {
    "deletable": false,
    "editable": false
   },
   "source": [
    "<!-- BEGIN QUESTION -->\n",
    "\n",
    "### 1.5 Hierarchical clustering with sentence embedding representation\n",
    "rubric={points}\n",
    "\n",
    "**Your tasks:**\n",
    "\n",
    "Try hierarchical clustering on `emb_sents`. In particular\n",
    "1. Create and show a dendrogram with `complete` linkage and `metric='cosine'` on this toy dataset.\n",
    "2. Create flat clusters using `fcluster` with appropriate hyperparameters and store cluster labels to `hier_emb_labels` variable below."
   ]
  },
  {
   "cell_type": "markdown",
   "metadata": {
    "deletable": false,
    "editable": false
   },
   "source": [
    "<div class=\"alert alert-warning\">\n",
    "\n",
    "Solution_1.5\n",
    "    \n",
    "</div>\n",
    "\n",
    "_Points:_ 3"
   ]
  },
  {
   "cell_type": "code",
   "execution_count": 16,
   "metadata": {
    "tags": []
   },
   "outputs": [
    {
     "data": {
      "text/plain": [
       "{'icoord': [[5.0, 5.0, 15.0, 15.0],\n",
       "  [25.0, 25.0, 35.0, 35.0],\n",
       "  [10.0, 10.0, 30.0, 30.0],\n",
       "  [55.0, 55.0, 65.0, 65.0],\n",
       "  [45.0, 45.0, 60.0, 60.0],\n",
       "  [20.0, 20.0, 52.5, 52.5]],\n",
       " 'dcoord': [[0.0, 0.6752308551053536, 0.6752308551053536, 0.0],\n",
       "  [0.0, 0.7172754364804692, 0.7172754364804692, 0.0],\n",
       "  [0.6752308551053536,\n",
       "   0.7895500523505772,\n",
       "   0.7895500523505772,\n",
       "   0.7172754364804692],\n",
       "  [0.0, 0.768978932192106, 0.768978932192106, 0.0],\n",
       "  [0.0, 0.8918968559628028, 0.8918968559628028, 0.768978932192106],\n",
       "  [0.7895500523505772,\n",
       "   1.0348082926276834,\n",
       "   1.0348082926276834,\n",
       "   0.8918968559628028]],\n",
       " 'ivl': ['sports analytics',\n",
       "  'ice hockey',\n",
       "  'data science',\n",
       "  'football sport',\n",
       "  'baguette food',\n",
       "  'banana bread food',\n",
       "  'bread food'],\n",
       " 'leaves': [4, 6, 3, 5, 0, 1, 2],\n",
       " 'color_list': ['C1', 'C2', 'C0', 'C0', 'C0', 'C0'],\n",
       " 'leaves_color_list': ['C1', 'C1', 'C2', 'C2', 'C0', 'C0', 'C0']}"
      ]
     },
     "execution_count": 16,
     "metadata": {},
     "output_type": "execute_result"
    },
    {
     "data": {
      "image/png": "[encoded data removed]",
      "text/plain": [
       "<Figure size 640x480 with 1 Axes>"
      ]
     },
     "metadata": {},
     "output_type": "display_data"
    }
   ],
   "source": [
    "from scipy.cluster.hierarchy import linkage, dendrogram, fcluster\n",
    "\n",
    "Z = linkage(emb_sents, method='complete', metric='cosine')\n",
    "dendrogram(Z, orientation='left', labels=wiki_df['wiki query'].tolist())"
   ]
  },
  {
   "cell_type": "code",
   "execution_count": 17,
   "metadata": {
    "tags": []
   },
   "outputs": [],
   "source": [
    "hier_emb_labels = fcluster(Z, 2, criterion=\"maxclust\")"
   ]
  },
  {
   "cell_type": "code",
   "execution_count": 18,
   "metadata": {
    "tags": []
   },
   "outputs": [],
   "source": [
    "# hier_emb_labels = fcluster(Z, 3, criterion=\"maxclust\") # alternative solution"
   ]
  },
  {
   "cell_type": "code",
   "execution_count": 19,
   "metadata": {
    "tags": []
   },
   "outputs": [
    {
     "data": {
      "text/html": [
       "<div>\n",
       "<style scoped>\n",
       "    .dataframe tbody tr th:only-of-type {\n",
       "        vertical-align: middle;\n",
       "    }\n",
       "\n",
       "    .dataframe tbody tr th {\n",
       "        vertical-align: top;\n",
       "    }\n",
       "\n",
       "    .dataframe thead th {\n",
       "        text-align: right;\n",
       "    }\n",
       "</style>\n",
       "<table border=\"1\" class=\"dataframe\">\n",
       "  <thead>\n",
       "    <tr style=\"text-align: right;\">\n",
       "      <th></th>\n",
       "      <th>wiki query</th>\n",
       "      <th>text</th>\n",
       "      <th>n_words</th>\n",
       "      <th>bow_kmeans</th>\n",
       "      <th>emb_kmeans</th>\n",
       "      <th>emb_dbscan</th>\n",
       "      <th>emb_hierarchical</th>\n",
       "    </tr>\n",
       "  </thead>\n",
       "  <tbody>\n",
       "    <tr>\n",
       "      <th>0</th>\n",
       "      <td>baguette food</td>\n",
       "      <td>In 1986, it was established as a subsidiary of Shani Co., Ltd., and opened the first 'Paris Baguette' in Gwanghwamun, Seoul, and the first high-end bakery 'Paris Croissant' in Itaewon the following year, and the corporate name changed to the same as the brand name.</td>\n",
       "      <td>54</td>\n",
       "      <td>0</td>\n",
       "      <td>2</td>\n",
       "      <td>0</td>\n",
       "      <td>2</td>\n",
       "    </tr>\n",
       "    <tr>\n",
       "      <th>1</th>\n",
       "      <td>banana bread food</td>\n",
       "      <td>It is often a moist and sweet quick bread but some recipes are yeast raised.</td>\n",
       "      <td>16</td>\n",
       "      <td>2</td>\n",
       "      <td>2</td>\n",
       "      <td>1</td>\n",
       "      <td>2</td>\n",
       "    </tr>\n",
       "    <tr>\n",
       "      <th>2</th>\n",
       "      <td>bread food</td>\n",
       "      <td>Throughout recorded history and around the world, it has been an important part of many cultures' diets.</td>\n",
       "      <td>20</td>\n",
       "      <td>0</td>\n",
       "      <td>0</td>\n",
       "      <td>2</td>\n",
       "      <td>2</td>\n",
       "    </tr>\n",
       "    <tr>\n",
       "      <th>3</th>\n",
       "      <td>data science</td>\n",
       "      <td>Data science also integrates domain knowledge from the underlying application domain (e.g., natural sciences, information technology, and medicine).</td>\n",
       "      <td>24</td>\n",
       "      <td>1</td>\n",
       "      <td>1</td>\n",
       "      <td>3</td>\n",
       "      <td>1</td>\n",
       "    </tr>\n",
       "    <tr>\n",
       "      <th>4</th>\n",
       "      <td>sports analytics</td>\n",
       "      <td>The term \"sports analytics\" was popularized in mainstream sports culture following the release of the 2011 film Moneyball.</td>\n",
       "      <td>21</td>\n",
       "      <td>1</td>\n",
       "      <td>1</td>\n",
       "      <td>3</td>\n",
       "      <td>1</td>\n",
       "    </tr>\n",
       "    <tr>\n",
       "      <th>5</th>\n",
       "      <td>football sport</td>\n",
       "      <td>Often competitive and organized, sports use, maintain, or improve physical ability and skills.</td>\n",
       "      <td>17</td>\n",
       "      <td>0</td>\n",
       "      <td>1</td>\n",
       "      <td>3</td>\n",
       "      <td>1</td>\n",
       "    </tr>\n",
       "    <tr>\n",
       "      <th>6</th>\n",
       "      <td>ice hockey</td>\n",
       "      <td>It belongs to a family of sports called hockey.</td>\n",
       "      <td>10</td>\n",
       "      <td>2</td>\n",
       "      <td>1</td>\n",
       "      <td>3</td>\n",
       "      <td>1</td>\n",
       "    </tr>\n",
       "  </tbody>\n",
       "</table>\n",
       "</div>"
      ],
      "text/plain": [
       "          wiki query  \\\n",
       "0  baguette food       \n",
       "1  banana bread food   \n",
       "2  bread food          \n",
       "3  data science        \n",
       "4  sports analytics    \n",
       "5  football sport      \n",
       "6  ice hockey          \n",
       "\n",
       "                                                                                                                                                                                                                                                                        text  \\\n",
       "0  In 1986, it was established as a subsidiary of Shani Co., Ltd., and opened the first 'Paris Baguette' in Gwanghwamun, Seoul, and the first high-end bakery 'Paris Croissant' in Itaewon the following year, and the corporate name changed to the same as the brand name.   \n",
       "1  It is often a moist and sweet quick bread but some recipes are yeast raised.                                                                                                                                                                                                \n",
       "2  Throughout recorded history and around the world, it has been an important part of many cultures' diets.                                                                                                                                                                    \n",
       "3  Data science also integrates domain knowledge from the underlying application domain (e.g., natural sciences, information technology, and medicine).                                                                                                                        \n",
       "4  The term \"sports analytics\" was popularized in mainstream sports culture following the release of the 2011 film Moneyball.                                                                                                                                                  \n",
       "5  Often competitive and organized, sports use, maintain, or improve physical ability and skills.                                                                                                                                                                              \n",
       "6  It belongs to a family of sports called hockey.                                                                                                                                                                                                                             \n",
       "\n",
       "   n_words  bow_kmeans  emb_kmeans  emb_dbscan  emb_hierarchical  \n",
       "0  54       0           2           0           2                 \n",
       "1  16       2           2           1           2                 \n",
       "2  20       0           0           2           2                 \n",
       "3  24       1           1           3           1                 \n",
       "4  21       1           1           3           1                 \n",
       "5  17       0           1           3           1                 \n",
       "6  10       2           1           3           1                 "
      ]
     },
     "execution_count": 19,
     "metadata": {},
     "output_type": "execute_result"
    }
   ],
   "source": [
    "wiki_df[\"emb_hierarchical\"] = hier_emb_labels\n",
    "wiki_df"
   ]
  },
  {
   "cell_type": "markdown",
   "metadata": {
    "deletable": false,
    "editable": false
   },
   "source": [
    "<!-- END QUESTION -->\n",
    "\n",
    "<br><br>"
   ]
  },
  {
   "cell_type": "markdown",
   "metadata": {
    "deletable": false,
    "editable": false
   },
   "source": [
    "<!-- BEGIN QUESTION -->\n",
    "\n",
    "### 1.6 Discussion\n",
    "rubric={points}\n",
    "\n",
    "**Your tasks:**\n",
    "\n",
    "1. Reflect on and discuss the clustering results of the methods you explored in the previous exercises, focusing on the following points:    \n",
    "    - effect of input representation on clustering results\n",
    "    - whether the clustering results match with your intuitions and the challenges associated with getting the desired clustering results with each method"
   ]
  },
  {
   "cell_type": "markdown",
   "metadata": {
    "deletable": false,
    "editable": false
   },
   "source": [
    "<div class=\"alert alert-warning\">\n",
    "\n",
    "Solution_1.6\n",
    "    \n",
    "</div>\n",
    "\n",
    "_Points:_ 4"
   ]
  },
  {
   "cell_type": "markdown",
   "metadata": {},
   "source": [
    "KMeans seemed to do well on both input representations just by looking at a preview of the dataframe and labels. However EMB representation seemed to work a lot better in terms of organizing clusters related to sports or foods without specific keywords. This makes sense as the semantics from sentences are picked up from EMB encoding. DBScan seemed to work similarly as well as KMeans with EMB as well as hierarchical clustering. One area it seemed that DBScan had trouble with was the comparison of long and short sentences, just separating them into separate clusters despite themes being similar. Overall, hierarchical clustering seemed to perform the best and matched my intuitions as it just doesn't need to define the number of clusters beforehand."
   ]
  },
  {
   "cell_type": "markdown",
   "metadata": {
    "deletable": false,
    "editable": false
   },
   "source": [
    "<!-- END QUESTION -->\n",
    "\n",
    "<br><br>"
   ]
  },
  {
   "cell_type": "markdown",
   "metadata": {},
   "source": [
    "<br><br>"
   ]
  },
  {
   "cell_type": "markdown",
   "metadata": {
    "deletable": false,
    "editable": false
   },
   "source": [
    "<!-- BEGIN QUESTION -->\n",
    "\n",
    "### 1.7 Visualizing clusters\n",
    "rubric={points:4}\n",
    "\n",
    "\n",
    "One approach to working with unlabeled data is visualization. That said, our data is high-dimensional, making it challenging to visualize. Take sentence embedding representation as an example: each instance is depicted in 768 dimensions. To visualize such high-dimensional data, we can employ dimensionality reduction techniques to extract the most significant 2 or 3 components, and then visualize this low-dimensional data.\n",
    "\n",
    "Given data as a `numpy` array and corresponding cluster assignments, the `plot_umap_clusters` function below transforms the data by applying dimensionality reduction technique called [UMAP](https://umap-learn.readthedocs.io/en/latest/) to it and plots the transformed data with different colours for different clusters. \n",
    "\n",
    "> *Note: At this point we are using this function only for visualization and you are not expected to understand the UMAP part.* \n",
    "\n",
    "You'll have to install the `umap-learn` package in the course conda environment either with `conda` or `pip`, as described in the [documentation](https://umap-learn.readthedocs.io/en/latest/index.html). \n",
    "\n",
    "```\n",
    "> conda activate cpsc330\n",
    "> conda install -c conda-forge umap-learn\n",
    "```\n",
    "or\n",
    "\n",
    "```\n",
    "> conda activate cpsc330\n",
    "> pip install umap-learn \n",
    "```\n",
    "\n",
    "If you get an error with the import below try\n",
    "\n",
    "```\n",
    "pip install --upgrade numba umap-learn\n",
    "```\n",
    "\n",
    "**Your tasks:**\n",
    "\n",
    "1. Visualize the clusters created by the methods above using `plot_umap_clusters` function below. In other words, visualize clusters identified by each of the methods below. \n",
    "    - K-Means with bag-of-words representation \n",
    "    - K-Means with sentence embedding representation\n",
    "    - DBSCAN with sentence embedding representation \n",
    "    - Flat cluster of hierarchical clustering with sentence embedding representation     "
   ]
  },
  {
   "cell_type": "code",
   "execution_count": 20,
   "metadata": {
    "deletable": false,
    "editable": false
   },
   "outputs": [],
   "source": [
    "import umap"
   ]
  },
  {
   "cell_type": "code",
   "execution_count": 21,
   "metadata": {
    "deletable": false,
    "editable": false
   },
   "outputs": [],
   "source": [
    "# Removes umap warnings due to a change of API in sklearn.\n",
    "import warnings\n",
    "warnings.simplefilter(action='ignore', category=FutureWarning)\n",
    "\n",
    "def plot_umap_clusters(\n",
    "    data,\n",
    "    cluster_labels,\n",
    "    raw_sents=wiki_df[\"text\"],\n",
    "    show_labels=False,\n",
    "    size=50,\n",
    "    n_neighbors=15,\n",
    "    title=\"UMAP visualization\",\n",
    "    ignore_noise=False,\n",
    "):\n",
    "    \"\"\"\n",
    "    Carry out dimensionality reduction using UMAP and plot 2-dimensional clusters.\n",
    "\n",
    "    Parameters\n",
    "    -----------\n",
    "    data : numpy array\n",
    "        data as a numpy array\n",
    "    cluster_labels : list\n",
    "        cluster labels for each row in the dataset\n",
    "    raw_sents : list\n",
    "        the original raw sentences for labeling datapoints\n",
    "    show_labels : boolean\n",
    "        whether you want to show labels for points or not (default: False)\n",
    "    size : int\n",
    "        size of points in the scatterplot\n",
    "    n_neighbors : int\n",
    "        n_neighbors hyperparameter of UMAP. See the documentation.\n",
    "    title : str\n",
    "        title for the visualization plot\n",
    "\n",
    "    Returns\n",
    "    -----------\n",
    "    None. Shows the clusters.\n",
    "    \"\"\"\n",
    "\n",
    "    reducer = umap.UMAP(n_neighbors=n_neighbors, random_state=42, n_jobs=1)\n",
    "    Z = reducer.fit_transform(data)  # reduce dimensionality\n",
    "    umap_df = pd.DataFrame(data=Z, columns=[\"dim1\", \"dim2\"])\n",
    "    umap_df[\"cluster\"] = cluster_labels\n",
    "\n",
    "    if ignore_noise:\n",
    "        umap_df = umap_df[umap_df[\"cluster\"] != -1]\n",
    "\n",
    "    labels = np.unique(umap_df[\"cluster\"])\n",
    "\n",
    "    fig, ax = plt.subplots(figsize=(6, 5))\n",
    "    ax.set_title(title)\n",
    "\n",
    "    scatter = ax.scatter(\n",
    "        umap_df[\"dim1\"],\n",
    "        umap_df[\"dim2\"],\n",
    "        c=umap_df[\"cluster\"],\n",
    "        cmap=\"tab20b\",\n",
    "        s=size,\n",
    "        #edgecolors=\"k\",\n",
    "        #linewidths=0.1,\n",
    "    )\n",
    "\n",
    "    legend = ax.legend(*scatter.legend_elements(), loc=\"best\", title=\"Clusters\")\n",
    "    ax.add_artist(legend)\n",
    "\n",
    "    if show_labels:\n",
    "        x = umap_df[\"dim1\"].tolist()\n",
    "        y = umap_df[\"dim2\"].tolist()\n",
    "        for i, txt in enumerate(raw_sents):\n",
    "            ax.annotate(\" \".join(txt.split()[:10]), (x[i], y[i]))\n",
    "    plt.show()"
   ]
  },
  {
   "cell_type": "markdown",
   "metadata": {
    "deletable": false,
    "editable": false
   },
   "source": [
    "<div class=\"alert alert-warning\">\n",
    "\n",
    "Solution_1.7\n",
    "    \n",
    "</div>\n",
    "\n",
    "_Points:_ 4"
   ]
  },
  {
   "cell_type": "code",
   "execution_count": 22,
   "metadata": {
    "metadata": {
     "tags": [
      "otter_ignore"
     ]
    },
    "tags": []
   },
   "outputs": [
    {
     "data": {
      "image/png": "[encoded data removed]",
      "text/plain": [
       "<Figure size 600x500 with 1 Axes>"
      ]
     },
     "metadata": {},
     "output_type": "display_data"
    },
    {
     "data": {
      "image/png": "[encoded data removed]",
      "text/plain": [
       "<Figure size 600x500 with 1 Axes>"
      ]
     },
     "metadata": {},
     "output_type": "display_data"
    },
    {
     "data": {
      "image/png": "[encoded data removed]",
      "text/plain": [
       "<Figure size 600x500 with 1 Axes>"
      ]
     },
     "metadata": {},
     "output_type": "display_data"
    },
    {
     "data": {
      "image/png": "[encoded data removed]",
      "text/plain": [
       "<Figure size 600x500 with 1 Axes>"
      ]
     },
     "metadata": {},
     "output_type": "display_data"
    }
   ],
   "source": [
    "plot_umap_clusters(X_counts.toarray(), kmeans_bow_labels, n_neighbors=3 ,title=\"KMeans Clusters (Bag-of-Words)\")\n",
    "plot_umap_clusters(emb_sents, kmeans_emb_labels, n_neighbors=3, title=\"KMeans Clusters (Sentence Embeddings)\")\n",
    "plot_umap_clusters(emb_sents, dbscan_emb_labels, n_neighbors=3, title=\"DBSCAN Clusters (Sentence Embeddings)\")\n",
    "plot_umap_clusters(emb_sents, hier_emb_labels, n_neighbors=3, title=\"Hierarchical Clusters (Sentence Embeddings)\")"
   ]
  },
  {
   "cell_type": "markdown",
   "metadata": {
    "deletable": false,
    "editable": false
   },
   "source": [
    "<!-- END QUESTION -->\n",
    "\n",
    "<br><br><br><br>"
   ]
  },
  {
   "cell_type": "markdown",
   "metadata": {},
   "source": [
    "## Exercise 2: [Food.com](https://www.food.com/) recipes \n",
    "<hr>\n",
    "\n",
    "Now that we have applied document clustering on a toy corpus, let's move to a more realistic corpus. \n",
    "\n",
    "In the lecture, we worked on an activity of manually clustering food items and discussed challenges associated with it. We also applied different clustering algorithms to cluster food images. We'll continue this theme of clustering food items in this lab. But instead of images we will cluster textual description of food items, i.e., recipe names.   \n",
    "\n",
    "In this lab, we will work with a sample of [Kaggle's Food.com recipes corpus](https://www.kaggle.com/shuyangli94/food-com-recipes-and-user-interactions). This corpus contains 180K+ recipes and 700K+ recipe reviews. In this lab, we'll only focus on recipes and **not** on reviews. The recipes are present in `RAW_recipes.csv`. Our goal is to find categories or groupings of recipes from this corpus based on their names. \n",
    "\n",
    "**Your tasks:**\n",
    "\n",
    "- Download [`RAW_recipes.csv`](https://www.kaggle.com/shuyangli94/food-com-recipes-and-user-interactions?select=RAW_recipes.csv) and put it under the `data` directory in the homework folder. \n",
    "- Run the code below. The dataset is quite large, and in this assignment, for speed, you will work with a sample of the dataset. The function `get_recipes_sample` below carries out some preliminary preprocessing and returns a sample of the recipes with most frequent tags. \n",
    "\n",
    "> *Note: Depending upon the capacity of your computer, feel free to increase or decrease the size of this sample by changing the value for `n_tags`. If you decide to go with a different value of `n_tags`, state it clearly in Exercise 2.1 so that the grader knows about it.* "
   ]
  },
  {
   "cell_type": "code",
   "execution_count": 23,
   "metadata": {},
   "outputs": [
    {
     "data": {
      "text/plain": [
       "(231637, 12)"
      ]
     },
     "execution_count": 23,
     "metadata": {},
     "output_type": "execute_result"
    }
   ],
   "source": [
    "orig_recipes_df = pd.read_csv(\"data/RAW_recipes.csv\")\n",
    "orig_recipes_df.shape"
   ]
  },
  {
   "cell_type": "code",
   "execution_count": 24,
   "metadata": {},
   "outputs": [],
   "source": [
    "def get_recipes_sample(orig_recipes_df, n_tags=300, min_len=5):\n",
    "    orig_recipes_df = orig_recipes_df.dropna()  # Remove rows with NaNs.\n",
    "    orig_recipes_df = orig_recipes_df.drop_duplicates(\n",
    "        \"name\"\n",
    "    )  # Remove rows with duplicate names.\n",
    "    # Remove rows where recipe names are too short (< 5 characters).\n",
    "    orig_recipes_df = orig_recipes_df[orig_recipes_df[\"name\"].apply(len) >= min_len]\n",
    "    # Only consider the rows where tags are one of the most frequent n tags.\n",
    "    first_n = orig_recipes_df[\"tags\"].value_counts()[0:n_tags].index.tolist()\n",
    "    recipes_df = orig_recipes_df[orig_recipes_df[\"tags\"].isin(first_n)]\n",
    "    return recipes_df"
   ]
  },
  {
   "cell_type": "code",
   "execution_count": 25,
   "metadata": {},
   "outputs": [
    {
     "data": {
      "text/plain": [
       "(9100, 12)"
      ]
     },
     "execution_count": 25,
     "metadata": {},
     "output_type": "execute_result"
    }
   ],
   "source": [
    "recipes_df = get_recipes_sample(orig_recipes_df)\n",
    "recipes_df.shape"
   ]
  },
  {
   "cell_type": "code",
   "execution_count": 26,
   "metadata": {},
   "outputs": [
    {
     "data": {
      "text/plain": [
       "42        i yam what i yam  muffins    \n",
       "101       to your health  muffins      \n",
       "129       250 00 chocolate chip cookies\n",
       "138       lplermagronen                \n",
       "163       california roll   salad      \n",
       "                   ...                 \n",
       "231430    zucchini wheat germ cookies  \n",
       "231514    zucchini blueberry bread     \n",
       "231547    zucchini salsa burgers       \n",
       "231596    zuppa toscana                \n",
       "231629    zydeco salad                 \n",
       "Name: name, Length: 9100, dtype: object"
      ]
     },
     "execution_count": 26,
     "metadata": {},
     "output_type": "execute_result"
    }
   ],
   "source": [
    "recipes_df[\"name\"]"
   ]
  },
  {
   "cell_type": "markdown",
   "metadata": {},
   "source": [
    "<br><br>"
   ]
  },
  {
   "cell_type": "markdown",
   "metadata": {},
   "source": [
    "**In the rest of the homework, we will use `recipes_df` above, which is a subset of the original dataset.** "
   ]
  },
  {
   "cell_type": "markdown",
   "metadata": {},
   "source": [
    "<br><br>"
   ]
  },
  {
   "cell_type": "markdown",
   "metadata": {
    "deletable": false,
    "editable": false
   },
   "source": [
    "<!-- BEGIN QUESTION -->\n",
    "\n",
    "### 2.1 Longest and shorter recipe names \n",
    "rubric={points:2}\n",
    "\n",
    "**Your tasks:**\n",
    "\n",
    "1. Print the shortest and longest recipe names (length in terms of number of characters) from `recipes_df`. If there is more than one recipe with the same shortest/longest length, store **one** of them in `shortest_recipe` and/or `longest_recipe` as a **string**."
   ]
  },
  {
   "cell_type": "markdown",
   "metadata": {
    "deletable": false,
    "editable": false
   },
   "source": [
    "<div class=\"alert alert-warning\">\n",
    "\n",
    "Solution_2.1\n",
    "    \n",
    "</div>\n",
    "\n",
    "_Points:_ 2"
   ]
  },
  {
   "cell_type": "code",
   "execution_count": 27,
   "metadata": {
    "tags": []
   },
   "outputs": [
    {
     "name": "stdout",
     "output_type": "stream",
     "text": [
      "bread\n",
      "baked tomatoes with a parmesan cheese crust and balsamic drizzle\n"
     ]
    }
   ],
   "source": [
    "shortest_recipe = recipes_df['name'][recipes_df['name'].str.len().idxmin()]\n",
    "longest_recipe = recipes_df['name'][recipes_df['name'].str.len().idxmax()]\n",
    "\n",
    "print(shortest_recipe)\n",
    "print(longest_recipe)"
   ]
  },
  {
   "cell_type": "markdown",
   "metadata": {
    "deletable": false,
    "editable": false
   },
   "source": [
    "<!-- END QUESTION -->\n",
    "\n",
    "<br><br>"
   ]
  },
  {
   "cell_type": "markdown",
   "metadata": {
    "deletable": false,
    "editable": false
   },
   "source": [
    "<!-- BEGIN QUESTION -->\n",
    "\n",
    "### 2.2 More EDA\n",
    "rubric={points:2}\n",
    "\n",
    "**Your tasks:**\n",
    "1. Create a word cloud for the recipe names. You can use [the `wordcloud` package](https://github.com/amueller/word_cloud) for this, which you will have to install in the course environment.\n",
    "```\n",
    "> conda activate cpsc330\n",
    "> conda install -c conda-forge wordcloud\n",
    "```"
   ]
  },
  {
   "cell_type": "markdown",
   "metadata": {
    "deletable": false,
    "editable": false
   },
   "source": [
    "<div class=\"alert alert-warning\">\n",
    "\n",
    "Solution_2.2\n",
    "    \n",
    "</div>\n",
    "\n",
    "_Points:_ 2"
   ]
  },
  {
   "cell_type": "code",
   "execution_count": 28,
   "metadata": {
    "tags": []
   },
   "outputs": [],
   "source": [
    "from wordcloud import WordCloud\n",
    "\n",
    "recipe_names = ' '.join(recipes_df['name'])\n",
    "\n",
    "wordcloud = WordCloud(width=800, height=400, background_color='white').generate(recipe_names)"
   ]
  },
  {
   "cell_type": "markdown",
   "metadata": {
    "deletable": false,
    "editable": false
   },
   "source": [
    "<!-- END QUESTION -->\n",
    "\n",
    "<br><br>"
   ]
  },
  {
   "cell_type": "markdown",
   "metadata": {
    "deletable": false,
    "editable": false
   },
   "source": [
    "<!-- BEGIN QUESTION -->\n",
    "\n",
    "### 2.3 Representing recipe names\n",
    "rubric={points:3}\n",
    "\n",
    "The next step is creating a representation of recipe names. \n",
    "\n",
    "**Your tasks:**\n",
    "\n",
    "1. Similar to Exercise 1, create sentence embedding representation of recipe names (`name` column in `recipes_df`).  For the rest of the homework, we'll stick to the sentence embedding representation of recipe names.\n",
    "\n",
    "\n",
    "> You might have to convert the recipe names to a list (`recipes_df[\"name\"].tolist()`) for the embedder to work\n",
    "> *If you create a dataframe with sentence embedding representation, set the index to `recipes_df.index` so that the indices match with the indices of the sample we are working with.*  \n",
    "> **This might take a while to run.**\n"
   ]
  },
  {
   "cell_type": "markdown",
   "metadata": {
    "deletable": false,
    "editable": false
   },
   "source": [
    "<div class=\"alert alert-warning\">\n",
    "\n",
    "Solution_2.3\n",
    "    \n",
    "</div>\n",
    "\n",
    "_Points:_ 3"
   ]
  },
  {
   "cell_type": "code",
   "execution_count": 29,
   "metadata": {
    "metadata": {
     "tags": [
      "otter_ignore"
     ]
    },
    "tags": []
   },
   "outputs": [
    {
     "data": {
      "text/html": [
       "<div>\n",
       "<style scoped>\n",
       "    .dataframe tbody tr th:only-of-type {\n",
       "        vertical-align: middle;\n",
       "    }\n",
       "\n",
       "    .dataframe tbody tr th {\n",
       "        vertical-align: top;\n",
       "    }\n",
       "\n",
       "    .dataframe thead th {\n",
       "        text-align: right;\n",
       "    }\n",
       "</style>\n",
       "<table border=\"1\" class=\"dataframe\">\n",
       "  <thead>\n",
       "    <tr style=\"text-align: right;\">\n",
       "      <th></th>\n",
       "      <th>0</th>\n",
       "      <th>1</th>\n",
       "      <th>2</th>\n",
       "      <th>3</th>\n",
       "      <th>4</th>\n",
       "      <th>5</th>\n",
       "      <th>6</th>\n",
       "      <th>7</th>\n",
       "      <th>8</th>\n",
       "      <th>9</th>\n",
       "      <th>...</th>\n",
       "      <th>758</th>\n",
       "      <th>759</th>\n",
       "      <th>760</th>\n",
       "      <th>761</th>\n",
       "      <th>762</th>\n",
       "      <th>763</th>\n",
       "      <th>764</th>\n",
       "      <th>765</th>\n",
       "      <th>766</th>\n",
       "      <th>767</th>\n",
       "    </tr>\n",
       "  </thead>\n",
       "  <tbody>\n",
       "    <tr>\n",
       "      <th>42</th>\n",
       "      <td>-0.333475</td>\n",
       "      <td>0.227865</td>\n",
       "      <td>-0.307339</td>\n",
       "      <td>0.410549</td>\n",
       "      <td>0.917104</td>\n",
       "      <td>-0.345506</td>\n",
       "      <td>0.305810</td>\n",
       "      <td>0.256676</td>\n",
       "      <td>-0.147711</td>\n",
       "      <td>0.040728</td>\n",
       "      <td>...</td>\n",
       "      <td>-0.053024</td>\n",
       "      <td>-0.209463</td>\n",
       "      <td>0.362418</td>\n",
       "      <td>-0.246085</td>\n",
       "      <td>0.208379</td>\n",
       "      <td>-0.024874</td>\n",
       "      <td>0.506561</td>\n",
       "      <td>0.197738</td>\n",
       "      <td>-0.386421</td>\n",
       "      <td>-0.002184</td>\n",
       "    </tr>\n",
       "    <tr>\n",
       "      <th>101</th>\n",
       "      <td>-0.024523</td>\n",
       "      <td>0.246222</td>\n",
       "      <td>-0.055708</td>\n",
       "      <td>0.358273</td>\n",
       "      <td>0.454786</td>\n",
       "      <td>-0.088055</td>\n",
       "      <td>0.260369</td>\n",
       "      <td>0.231947</td>\n",
       "      <td>0.093013</td>\n",
       "      <td>-0.007835</td>\n",
       "      <td>...</td>\n",
       "      <td>0.144860</td>\n",
       "      <td>-0.435459</td>\n",
       "      <td>0.208343</td>\n",
       "      <td>-0.002655</td>\n",
       "      <td>-0.081200</td>\n",
       "      <td>-0.130489</td>\n",
       "      <td>0.452378</td>\n",
       "      <td>0.186310</td>\n",
       "      <td>-0.278500</td>\n",
       "      <td>0.028580</td>\n",
       "    </tr>\n",
       "    <tr>\n",
       "      <th>129</th>\n",
       "      <td>-0.026562</td>\n",
       "      <td>0.194671</td>\n",
       "      <td>0.038102</td>\n",
       "      <td>-0.099181</td>\n",
       "      <td>0.653784</td>\n",
       "      <td>-0.230869</td>\n",
       "      <td>0.064517</td>\n",
       "      <td>0.001376</td>\n",
       "      <td>-0.061281</td>\n",
       "      <td>0.232095</td>\n",
       "      <td>...</td>\n",
       "      <td>0.169605</td>\n",
       "      <td>0.239354</td>\n",
       "      <td>0.392649</td>\n",
       "      <td>0.271398</td>\n",
       "      <td>-0.093971</td>\n",
       "      <td>0.060101</td>\n",
       "      <td>-0.281417</td>\n",
       "      <td>0.133210</td>\n",
       "      <td>-0.122343</td>\n",
       "      <td>-0.109863</td>\n",
       "    </tr>\n",
       "    <tr>\n",
       "      <th>138</th>\n",
       "      <td>-0.168002</td>\n",
       "      <td>-0.219219</td>\n",
       "      <td>0.330761</td>\n",
       "      <td>0.302195</td>\n",
       "      <td>-0.173170</td>\n",
       "      <td>0.204558</td>\n",
       "      <td>0.192390</td>\n",
       "      <td>0.140975</td>\n",
       "      <td>0.303174</td>\n",
       "      <td>0.038062</td>\n",
       "      <td>...</td>\n",
       "      <td>0.019095</td>\n",
       "      <td>-0.002449</td>\n",
       "      <td>0.437832</td>\n",
       "      <td>0.563785</td>\n",
       "      <td>0.033442</td>\n",
       "      <td>0.187658</td>\n",
       "      <td>0.529252</td>\n",
       "      <td>-0.233786</td>\n",
       "      <td>0.509932</td>\n",
       "      <td>0.410715</td>\n",
       "    </tr>\n",
       "    <tr>\n",
       "      <th>163</th>\n",
       "      <td>0.061075</td>\n",
       "      <td>-0.333799</td>\n",
       "      <td>0.242906</td>\n",
       "      <td>0.395978</td>\n",
       "      <td>-0.466468</td>\n",
       "      <td>0.496505</td>\n",
       "      <td>-0.136754</td>\n",
       "      <td>0.122097</td>\n",
       "      <td>0.114249</td>\n",
       "      <td>0.065318</td>\n",
       "      <td>...</td>\n",
       "      <td>0.044438</td>\n",
       "      <td>-0.213657</td>\n",
       "      <td>0.410352</td>\n",
       "      <td>-0.233599</td>\n",
       "      <td>-0.224422</td>\n",
       "      <td>0.094330</td>\n",
       "      <td>0.173351</td>\n",
       "      <td>0.105782</td>\n",
       "      <td>-0.114749</td>\n",
       "      <td>-0.150678</td>\n",
       "    </tr>\n",
       "  </tbody>\n",
       "</table>\n",
       "<p>5 rows × 768 columns</p>\n",
       "</div>"
      ],
      "text/plain": [
       "            0         1         2         3         4         5         6  \\\n",
       "42  -0.333475  0.227865 -0.307339  0.410549  0.917104 -0.345506  0.305810   \n",
       "101 -0.024523  0.246222 -0.055708  0.358273  0.454786 -0.088055  0.260369   \n",
       "129 -0.026562  0.194671  0.038102 -0.099181  0.653784 -0.230869  0.064517   \n",
       "138 -0.168002 -0.219219  0.330761  0.302195 -0.173170  0.204558  0.192390   \n",
       "163  0.061075 -0.333799  0.242906  0.395978 -0.466468  0.496505 -0.136754   \n",
       "\n",
       "            7         8         9  ...       758       759       760  \\\n",
       "42   0.256676 -0.147711  0.040728  ... -0.053024 -0.209463  0.362418   \n",
       "101  0.231947  0.093013 -0.007835  ...  0.144860 -0.435459  0.208343   \n",
       "129  0.001376 -0.061281  0.232095  ...  0.169605  0.239354  0.392649   \n",
       "138  0.140975  0.303174  0.038062  ...  0.019095 -0.002449  0.437832   \n",
       "163  0.122097  0.114249  0.065318  ...  0.044438 -0.213657  0.410352   \n",
       "\n",
       "          761       762       763       764       765       766       767  \n",
       "42  -0.246085  0.208379 -0.024874  0.506561  0.197738 -0.386421 -0.002184  \n",
       "101 -0.002655 -0.081200 -0.130489  0.452378  0.186310 -0.278500  0.028580  \n",
       "129  0.271398 -0.093971  0.060101 -0.281417  0.133210 -0.122343 -0.109863  \n",
       "138  0.563785  0.033442  0.187658  0.529252 -0.233786  0.509932  0.410715  \n",
       "163 -0.233599 -0.224422  0.094330  0.173351  0.105782 -0.114749 -0.150678  \n",
       "\n",
       "[5 rows x 768 columns]"
      ]
     },
     "execution_count": 29,
     "metadata": {},
     "output_type": "execute_result"
    }
   ],
   "source": [
    "embedder = SentenceTransformer(\"paraphrase-distilroberta-base-v1\")\n",
    "\n",
    "recipe_names = recipes_df[\"name\"].tolist()\n",
    "\n",
    "embeddings = embedder.encode(recipe_names)\n",
    "\n",
    "emb_sent_df = pd.DataFrame(embeddings, index=recipes_df.index)\n",
    "emb_sent_df.head()"
   ]
  },
  {
   "cell_type": "markdown",
   "metadata": {
    "deletable": false,
    "editable": false
   },
   "source": [
    "<!-- END QUESTION -->\n",
    "\n",
    "<br><br><br><br>"
   ]
  },
  {
   "cell_type": "markdown",
   "metadata": {},
   "source": [
    "## Exercise 3: Clustering recipe names\n",
    "<hr>\n",
    "\n",
    "In this exercise you'll cluster recipe names with some of the clustering algorithms we have seen in class. This will also involve making some attempts to pick reasonable hyperparameter values for each clustering method based on the quality of the resulting clusters. For example, for KMeans, you need to specify the number of clusters in advance, which is often challenging on real-world datasets. For DBSCAN, you need to pick appropriate `eps` and `min_samples`. For hierarchical clustering, you need to pick a suitable linkage criterion, distance metric, and prune the tree so that it's possible to visualize and interpret it. \n",
    "\n",
    "Here are some methods which may help you with picking reasonable values for the hyperparameters. \n",
    "- Visualize the Elbow plot (KMeans). \n",
    "- Visualize Silhouette plots. \n",
    "- Visualize resulting clusters using `plot_umap_clusters` function from Exercise 1. \n",
    "- Sample some recipes from each cluster, manually inspect whether there are coherent semantic themes. (For this, you may use the function `print_clusters` given below.) \n",
    "        \n",
    "> You may use the [`yellowbrick`](https://www.scikit-yb.org/en/latest/) package for visualizing the Elbow plot and the Silhouette plots. You can intall it with\n",
    "\n",
    "```conda install -c districtdatalabs yellowbrick```\n",
    "\n",
    "**Note that the process of picking reasonable hyperparameter values will be exploratory, iterative, and will involve manual inspection and judgment, as there is no ground truth to verify how well the model is doing. In your solutions, please do not include everything you try. Only present the results of the most informative trials. Add a narrative to your answer so that it's easy for the grader to follow your choices and reasoning.** "
   ]
  },
  {
   "cell_type": "code",
   "execution_count": 30,
   "metadata": {},
   "outputs": [],
   "source": [
    "def print_clusters(recipes_df, cluster_labels, n_recipes=10, replace=False, random_state=None):\n",
    "    \"\"\"\n",
    "    Given recipes_df containing recipe names and cluster assignment (labels), \n",
    "    sample and print n_recipes recipes per cluster. \n",
    "\n",
    "    Parameters\n",
    "    -----------\n",
    "    recipe_df : pandas dataframe \n",
    "        recipes dataframe containing recipe names in the \"name\" column\n",
    "    cluster_labels : ndarray or a list\n",
    "        cluster labels for each row in recipes_df \n",
    "    n_recipes : int\n",
    "        number of examples to sample from each cluster\n",
    "    replace: bool\n",
    "        replace flag to pass to the sampling of recipe names\n",
    "\n",
    "    Returns\n",
    "    -----------\n",
    "    None\n",
    "    \"\"\"    \n",
    "    \n",
    "    grouped = (\n",
    "        pd.DataFrame(\n",
    "            {\n",
    "                \"name\": recipes_df[\"name\"],\n",
    "                \"cluster_label\": cluster_labels,\n",
    "            }\n",
    "        )\n",
    "        .sort_values(\"cluster_label\")\n",
    "        .groupby(\"cluster_label\")    \n",
    "    )\n",
    "    \n",
    "    for name, group in grouped:\n",
    "        print(f\"Cluster {name}\")        \n",
    "        print((\"----------\").format(\"\"))        \n",
    "        print(\"\\n\".join(group.sample(n_recipes, random_state=random_state)['name'].tolist()))\n",
    "        print(\"\\n\\n\")"
   ]
  },
  {
   "cell_type": "markdown",
   "metadata": {},
   "source": [
    "<br><br>"
   ]
  },
  {
   "cell_type": "markdown",
   "metadata": {
    "deletable": false,
    "editable": false
   },
   "source": [
    "<!-- BEGIN QUESTION -->\n",
    "\n",
    "### 3.1 K-Means\n",
    "rubric={points:6}\n",
    "\n",
    "**Your tasks:**\n",
    "\n",
    "1. Cluster recipe titles using KMeans. Make some attempts to determine the optimal number of clusters. \n",
    "2. Pick one or two best models and justify your choice. "
   ]
  },
  {
   "cell_type": "markdown",
   "metadata": {
    "deletable": false,
    "editable": false
   },
   "source": [
    "<div class=\"alert alert-warning\">\n",
    "\n",
    "Solution_3.1\n",
    "    \n",
    "</div>\n",
    "\n",
    "_Points:_ 6"
   ]
  },
  {
   "cell_type": "markdown",
   "metadata": {},
   "source": [
    "_Type your answer here, replacing this text._"
   ]
  },
  {
   "cell_type": "code",
   "execution_count": 31,
   "metadata": {
    "metadata": {
     "tags": [
      "otter_ignore"
     ]
    },
    "tags": [
     "otter_ignore"
    ]
   },
   "outputs": [
    {
     "data": {
      "image/png": "[encoded data removed]",
      "text/plain": [
       "<Figure size 800x550 with 2 Axes>"
      ]
     },
     "metadata": {},
     "output_type": "display_data"
    },
    {
     "data": {
      "text/plain": [
       "<Axes: title={'center': 'Distortion Score Elbow for KMeans Clustering'}, xlabel='k', ylabel='distortion score'>"
      ]
     },
     "execution_count": 31,
     "metadata": {},
     "output_type": "execute_result"
    }
   ],
   "source": [
    "from yellowbrick.cluster import KElbowVisualizer, SilhouetteVisualizer\n",
    "\n",
    "kmeans = KMeans(random_state=42)\n",
    "visualizer = KElbowVisualizer(kmeans, k=(2, 10), metric=\"distortion\")\n",
    "visualizer.fit(emb_sent_df)\n",
    "visualizer.show()"
   ]
  },
  {
   "cell_type": "code",
   "execution_count": 32,
   "metadata": {
    "metadata": {
     "tags": [
      "otter_ignore"
     ]
    },
    "tags": []
   },
   "outputs": [
    {
     "data": {
      "text/html": [
       "<style>#sk-container-id-1 {\n",
       "  /* Definition of color scheme common for light and dark mode */\n",
       "  --sklearn-color-text: #000;\n",
       "  --sklearn-color-text-muted: #666;\n",
       "  --sklearn-color-line: gray;\n",
       "  /* Definition of color scheme for unfitted estimators */\n",
       "  --sklearn-color-unfitted-level-0: #fff5e6;\n",
       "  --sklearn-color-unfitted-level-1: #f6e4d2;\n",
       "  --sklearn-color-unfitted-level-2: #ffe0b3;\n",
       "  --sklearn-color-unfitted-level-3: chocolate;\n",
       "  /* Definition of color scheme for fitted estimators */\n",
       "  --sklearn-color-fitted-level-0: #f0f8ff;\n",
       "  --sklearn-color-fitted-level-1: #d4ebff;\n",
       "  --sklearn-color-fitted-level-2: #b3dbfd;\n",
       "  --sklearn-color-fitted-level-3: cornflowerblue;\n",
       "\n",
       "  /* Specific color for light theme */\n",
       "  --sklearn-color-text-on-default-background: var(--sg-text-color, var(--theme-code-foreground, var(--jp-content-font-color1, black)));\n",
       "  --sklearn-color-background: var(--sg-background-color, var(--theme-background, var(--jp-layout-color0, white)));\n",
       "  --sklearn-color-border-box: var(--sg-text-color, var(--theme-code-foreground, var(--jp-content-font-color1, black)));\n",
       "  --sklearn-color-icon: #696969;\n",
       "\n",
       "  @media (prefers-color-scheme: dark) {\n",
       "    /* Redefinition of color scheme for dark theme */\n",
       "    --sklearn-color-text-on-default-background: var(--sg-text-color, var(--theme-code-foreground, var(--jp-content-font-color1, white)));\n",
       "    --sklearn-color-background: var(--sg-background-color, var(--theme-background, var(--jp-layout-color0, #111)));\n",
       "    --sklearn-color-border-box: var(--sg-text-color, var(--theme-code-foreground, var(--jp-content-font-color1, white)));\n",
       "    --sklearn-color-icon: #878787;\n",
       "  }\n",
       "}\n",
       "\n",
       "#sk-container-id-1 {\n",
       "  color: var(--sklearn-color-text);\n",
       "}\n",
       "\n",
       "#sk-container-id-1 pre {\n",
       "  padding: 0;\n",
       "}\n",
       "\n",
       "#sk-container-id-1 input.sk-hidden--visually {\n",
       "  border: 0;\n",
       "  clip: rect(1px 1px 1px 1px);\n",
       "  clip: rect(1px, 1px, 1px, 1px);\n",
       "  height: 1px;\n",
       "  margin: -1px;\n",
       "  overflow: hidden;\n",
       "  padding: 0;\n",
       "  position: absolute;\n",
       "  width: 1px;\n",
       "}\n",
       "\n",
       "#sk-container-id-1 div.sk-dashed-wrapped {\n",
       "  border: 1px dashed var(--sklearn-color-line);\n",
       "  margin: 0 0.4em 0.5em 0.4em;\n",
       "  box-sizing: border-box;\n",
       "  padding-bottom: 0.4em;\n",
       "  background-color: var(--sklearn-color-background);\n",
       "}\n",
       "\n",
       "#sk-container-id-1 div.sk-container {\n",
       "  /* jupyter's `normalize.less` sets `[hidden] { display: none; }`\n",
       "     but bootstrap.min.css set `[hidden] { display: none !important; }`\n",
       "     so we also need the `!important` here to be able to override the\n",
       "     default hidden behavior on the sphinx rendered scikit-learn.org.\n",
       "     See: https://github.com/scikit-learn/scikit-learn/issues/21755 */\n",
       "  display: inline-block !important;\n",
       "  position: relative;\n",
       "}\n",
       "\n",
       "#sk-container-id-1 div.sk-text-repr-fallback {\n",
       "  display: none;\n",
       "}\n",
       "\n",
       "div.sk-parallel-item,\n",
       "div.sk-serial,\n",
       "div.sk-item {\n",
       "  /* draw centered vertical line to link estimators */\n",
       "  background-image: linear-gradient(var(--sklearn-color-text-on-default-background), var(--sklearn-color-text-on-default-background));\n",
       "  background-size: 2px 100%;\n",
       "  background-repeat: no-repeat;\n",
       "  background-position: center center;\n",
       "}\n",
       "\n",
       "/* Parallel-specific style estimator block */\n",
       "\n",
       "#sk-container-id-1 div.sk-parallel-item::after {\n",
       "  content: \"\";\n",
       "  width: 100%;\n",
       "  border-bottom: 2px solid var(--sklearn-color-text-on-default-background);\n",
       "  flex-grow: 1;\n",
       "}\n",
       "\n",
       "#sk-container-id-1 div.sk-parallel {\n",
       "  display: flex;\n",
       "  align-items: stretch;\n",
       "  justify-content: center;\n",
       "  background-color: var(--sklearn-color-background);\n",
       "  position: relative;\n",
       "}\n",
       "\n",
       "#sk-container-id-1 div.sk-parallel-item {\n",
       "  display: flex;\n",
       "  flex-direction: column;\n",
       "}\n",
       "\n",
       "#sk-container-id-1 div.sk-parallel-item:first-child::after {\n",
       "  align-self: flex-end;\n",
       "  width: 50%;\n",
       "}\n",
       "\n",
       "#sk-container-id-1 div.sk-parallel-item:last-child::after {\n",
       "  align-self: flex-start;\n",
       "  width: 50%;\n",
       "}\n",
       "\n",
       "#sk-container-id-1 div.sk-parallel-item:only-child::after {\n",
       "  width: 0;\n",
       "}\n",
       "\n",
       "/* Serial-specific style estimator block */\n",
       "\n",
       "#sk-container-id-1 div.sk-serial {\n",
       "  display: flex;\n",
       "  flex-direction: column;\n",
       "  align-items: center;\n",
       "  background-color: var(--sklearn-color-background);\n",
       "  padding-right: 1em;\n",
       "  padding-left: 1em;\n",
       "}\n",
       "\n",
       "\n",
       "/* Toggleable style: style used for estimator/Pipeline/ColumnTransformer box that is\n",
       "clickable and can be expanded/collapsed.\n",
       "- Pipeline and ColumnTransformer use this feature and define the default style\n",
       "- Estimators will overwrite some part of the style using the `sk-estimator` class\n",
       "*/\n",
       "\n",
       "/* Pipeline and ColumnTransformer style (default) */\n",
       "\n",
       "#sk-container-id-1 div.sk-toggleable {\n",
       "  /* Default theme specific background. It is overwritten whether we have a\n",
       "  specific estimator or a Pipeline/ColumnTransformer */\n",
       "  background-color: var(--sklearn-color-background);\n",
       "}\n",
       "\n",
       "/* Toggleable label */\n",
       "#sk-container-id-1 label.sk-toggleable__label {\n",
       "  cursor: pointer;\n",
       "  display: flex;\n",
       "  width: 100%;\n",
       "  margin-bottom: 0;\n",
       "  padding: 0.5em;\n",
       "  box-sizing: border-box;\n",
       "  text-align: center;\n",
       "  align-items: start;\n",
       "  justify-content: space-between;\n",
       "  gap: 0.5em;\n",
       "}\n",
       "\n",
       "#sk-container-id-1 label.sk-toggleable__label .caption {\n",
       "  font-size: 0.6rem;\n",
       "  font-weight: lighter;\n",
       "  color: var(--sklearn-color-text-muted);\n",
       "}\n",
       "\n",
       "#sk-container-id-1 label.sk-toggleable__label-arrow:before {\n",
       "  /* Arrow on the left of the label */\n",
       "  content: \"▸\";\n",
       "  float: left;\n",
       "  margin-right: 0.25em;\n",
       "  color: var(--sklearn-color-icon);\n",
       "}\n",
       "\n",
       "#sk-container-id-1 label.sk-toggleable__label-arrow:hover:before {\n",
       "  color: var(--sklearn-color-text);\n",
       "}\n",
       "\n",
       "/* Toggleable content - dropdown */\n",
       "\n",
       "#sk-container-id-1 div.sk-toggleable__content {\n",
       "  max-height: 0;\n",
       "  max-width: 0;\n",
       "  overflow: hidden;\n",
       "  text-align: left;\n",
       "  /* unfitted */\n",
       "  background-color: var(--sklearn-color-unfitted-level-0);\n",
       "}\n",
       "\n",
       "#sk-container-id-1 div.sk-toggleable__content.fitted {\n",
       "  /* fitted */\n",
       "  background-color: var(--sklearn-color-fitted-level-0);\n",
       "}\n",
       "\n",
       "#sk-container-id-1 div.sk-toggleable__content pre {\n",
       "  margin: 0.2em;\n",
       "  border-radius: 0.25em;\n",
       "  color: var(--sklearn-color-text);\n",
       "  /* unfitted */\n",
       "  background-color: var(--sklearn-color-unfitted-level-0);\n",
       "}\n",
       "\n",
       "#sk-container-id-1 div.sk-toggleable__content.fitted pre {\n",
       "  /* unfitted */\n",
       "  background-color: var(--sklearn-color-fitted-level-0);\n",
       "}\n",
       "\n",
       "#sk-container-id-1 input.sk-toggleable__control:checked~div.sk-toggleable__content {\n",
       "  /* Expand drop-down */\n",
       "  max-height: 200px;\n",
       "  max-width: 100%;\n",
       "  overflow: auto;\n",
       "}\n",
       "\n",
       "#sk-container-id-1 input.sk-toggleable__control:checked~label.sk-toggleable__label-arrow:before {\n",
       "  content: \"▾\";\n",
       "}\n",
       "\n",
       "/* Pipeline/ColumnTransformer-specific style */\n",
       "\n",
       "#sk-container-id-1 div.sk-label input.sk-toggleable__control:checked~label.sk-toggleable__label {\n",
       "  color: var(--sklearn-color-text);\n",
       "  background-color: var(--sklearn-color-unfitted-level-2);\n",
       "}\n",
       "\n",
       "#sk-container-id-1 div.sk-label.fitted input.sk-toggleable__control:checked~label.sk-toggleable__label {\n",
       "  background-color: var(--sklearn-color-fitted-level-2);\n",
       "}\n",
       "\n",
       "/* Estimator-specific style */\n",
       "\n",
       "/* Colorize estimator box */\n",
       "#sk-container-id-1 div.sk-estimator input.sk-toggleable__control:checked~label.sk-toggleable__label {\n",
       "  /* unfitted */\n",
       "  background-color: var(--sklearn-color-unfitted-level-2);\n",
       "}\n",
       "\n",
       "#sk-container-id-1 div.sk-estimator.fitted input.sk-toggleable__control:checked~label.sk-toggleable__label {\n",
       "  /* fitted */\n",
       "  background-color: var(--sklearn-color-fitted-level-2);\n",
       "}\n",
       "\n",
       "#sk-container-id-1 div.sk-label label.sk-toggleable__label,\n",
       "#sk-container-id-1 div.sk-label label {\n",
       "  /* The background is the default theme color */\n",
       "  color: var(--sklearn-color-text-on-default-background);\n",
       "}\n",
       "\n",
       "/* On hover, darken the color of the background */\n",
       "#sk-container-id-1 div.sk-label:hover label.sk-toggleable__label {\n",
       "  color: var(--sklearn-color-text);\n",
       "  background-color: var(--sklearn-color-unfitted-level-2);\n",
       "}\n",
       "\n",
       "/* Label box, darken color on hover, fitted */\n",
       "#sk-container-id-1 div.sk-label.fitted:hover label.sk-toggleable__label.fitted {\n",
       "  color: var(--sklearn-color-text);\n",
       "  background-color: var(--sklearn-color-fitted-level-2);\n",
       "}\n",
       "\n",
       "/* Estimator label */\n",
       "\n",
       "#sk-container-id-1 div.sk-label label {\n",
       "  font-family: monospace;\n",
       "  font-weight: bold;\n",
       "  display: inline-block;\n",
       "  line-height: 1.2em;\n",
       "}\n",
       "\n",
       "#sk-container-id-1 div.sk-label-container {\n",
       "  text-align: center;\n",
       "}\n",
       "\n",
       "/* Estimator-specific */\n",
       "#sk-container-id-1 div.sk-estimator {\n",
       "  font-family: monospace;\n",
       "  border: 1px dotted var(--sklearn-color-border-box);\n",
       "  border-radius: 0.25em;\n",
       "  box-sizing: border-box;\n",
       "  margin-bottom: 0.5em;\n",
       "  /* unfitted */\n",
       "  background-color: var(--sklearn-color-unfitted-level-0);\n",
       "}\n",
       "\n",
       "#sk-container-id-1 div.sk-estimator.fitted {\n",
       "  /* fitted */\n",
       "  background-color: var(--sklearn-color-fitted-level-0);\n",
       "}\n",
       "\n",
       "/* on hover */\n",
       "#sk-container-id-1 div.sk-estimator:hover {\n",
       "  /* unfitted */\n",
       "  background-color: var(--sklearn-color-unfitted-level-2);\n",
       "}\n",
       "\n",
       "#sk-container-id-1 div.sk-estimator.fitted:hover {\n",
       "  /* fitted */\n",
       "  background-color: var(--sklearn-color-fitted-level-2);\n",
       "}\n",
       "\n",
       "/* Specification for estimator info (e.g. \"i\" and \"?\") */\n",
       "\n",
       "/* Common style for \"i\" and \"?\" */\n",
       "\n",
       ".sk-estimator-doc-link,\n",
       "a:link.sk-estimator-doc-link,\n",
       "a:visited.sk-estimator-doc-link {\n",
       "  float: right;\n",
       "  font-size: smaller;\n",
       "  line-height: 1em;\n",
       "  font-family: monospace;\n",
       "  background-color: var(--sklearn-color-background);\n",
       "  border-radius: 1em;\n",
       "  height: 1em;\n",
       "  width: 1em;\n",
       "  text-decoration: none !important;\n",
       "  margin-left: 0.5em;\n",
       "  text-align: center;\n",
       "  /* unfitted */\n",
       "  border: var(--sklearn-color-unfitted-level-1) 1pt solid;\n",
       "  color: var(--sklearn-color-unfitted-level-1);\n",
       "}\n",
       "\n",
       ".sk-estimator-doc-link.fitted,\n",
       "a:link.sk-estimator-doc-link.fitted,\n",
       "a:visited.sk-estimator-doc-link.fitted {\n",
       "  /* fitted */\n",
       "  border: var(--sklearn-color-fitted-level-1) 1pt solid;\n",
       "  color: var(--sklearn-color-fitted-level-1);\n",
       "}\n",
       "\n",
       "/* On hover */\n",
       "div.sk-estimator:hover .sk-estimator-doc-link:hover,\n",
       ".sk-estimator-doc-link:hover,\n",
       "div.sk-label-container:hover .sk-estimator-doc-link:hover,\n",
       ".sk-estimator-doc-link:hover {\n",
       "  /* unfitted */\n",
       "  background-color: var(--sklearn-color-unfitted-level-3);\n",
       "  color: var(--sklearn-color-background);\n",
       "  text-decoration: none;\n",
       "}\n",
       "\n",
       "div.sk-estimator.fitted:hover .sk-estimator-doc-link.fitted:hover,\n",
       ".sk-estimator-doc-link.fitted:hover,\n",
       "div.sk-label-container:hover .sk-estimator-doc-link.fitted:hover,\n",
       ".sk-estimator-doc-link.fitted:hover {\n",
       "  /* fitted */\n",
       "  background-color: var(--sklearn-color-fitted-level-3);\n",
       "  color: var(--sklearn-color-background);\n",
       "  text-decoration: none;\n",
       "}\n",
       "\n",
       "/* Span, style for the box shown on hovering the info icon */\n",
       ".sk-estimator-doc-link span {\n",
       "  display: none;\n",
       "  z-index: 9999;\n",
       "  position: relative;\n",
       "  font-weight: normal;\n",
       "  right: .2ex;\n",
       "  padding: .5ex;\n",
       "  margin: .5ex;\n",
       "  width: min-content;\n",
       "  min-width: 20ex;\n",
       "  max-width: 50ex;\n",
       "  color: var(--sklearn-color-text);\n",
       "  box-shadow: 2pt 2pt 4pt #999;\n",
       "  /* unfitted */\n",
       "  background: var(--sklearn-color-unfitted-level-0);\n",
       "  border: .5pt solid var(--sklearn-color-unfitted-level-3);\n",
       "}\n",
       "\n",
       ".sk-estimator-doc-link.fitted span {\n",
       "  /* fitted */\n",
       "  background: var(--sklearn-color-fitted-level-0);\n",
       "  border: var(--sklearn-color-fitted-level-3);\n",
       "}\n",
       "\n",
       ".sk-estimator-doc-link:hover span {\n",
       "  display: block;\n",
       "}\n",
       "\n",
       "/* \"?\"-specific style due to the `<a>` HTML tag */\n",
       "\n",
       "#sk-container-id-1 a.estimator_doc_link {\n",
       "  float: right;\n",
       "  font-size: 1rem;\n",
       "  line-height: 1em;\n",
       "  font-family: monospace;\n",
       "  background-color: var(--sklearn-color-background);\n",
       "  border-radius: 1rem;\n",
       "  height: 1rem;\n",
       "  width: 1rem;\n",
       "  text-decoration: none;\n",
       "  /* unfitted */\n",
       "  color: var(--sklearn-color-unfitted-level-1);\n",
       "  border: var(--sklearn-color-unfitted-level-1) 1pt solid;\n",
       "}\n",
       "\n",
       "#sk-container-id-1 a.estimator_doc_link.fitted {\n",
       "  /* fitted */\n",
       "  border: var(--sklearn-color-fitted-level-1) 1pt solid;\n",
       "  color: var(--sklearn-color-fitted-level-1);\n",
       "}\n",
       "\n",
       "/* On hover */\n",
       "#sk-container-id-1 a.estimator_doc_link:hover {\n",
       "  /* unfitted */\n",
       "  background-color: var(--sklearn-color-unfitted-level-3);\n",
       "  color: var(--sklearn-color-background);\n",
       "  text-decoration: none;\n",
       "}\n",
       "\n",
       "#sk-container-id-1 a.estimator_doc_link.fitted:hover {\n",
       "  /* fitted */\n",
       "  background-color: var(--sklearn-color-fitted-level-3);\n",
       "}\n",
       "</style><div id=\"sk-container-id-1\" class=\"sk-top-container\"><div class=\"sk-text-repr-fallback\"><pre>KMeans(n_clusters=6, random_state=42)</pre><b>In a Jupyter environment, please rerun this cell to show the HTML representation or trust the notebook. <br />On GitHub, the HTML representation is unable to render, please try loading this page with nbviewer.org.</b></div><div class=\"sk-container\" hidden><div class=\"sk-item\"><div class=\"sk-estimator fitted sk-toggleable\"><input class=\"sk-toggleable__control sk-hidden--visually\" id=\"sk-estimator-id-1\" type=\"checkbox\" checked><label for=\"sk-estimator-id-1\" class=\"sk-toggleable__label fitted sk-toggleable__label-arrow\"><div><div>KMeans</div></div><div><a class=\"sk-estimator-doc-link fitted\" rel=\"noreferrer\" target=\"_blank\" href=\"https://scikit-learn.org/1.6/modules/generated/sklearn.cluster.KMeans.html\">?<span>Documentation for KMeans</span></a><span class=\"sk-estimator-doc-link fitted\">i<span>Fitted</span></span></div></label><div class=\"sk-toggleable__content fitted\"><pre>KMeans(n_clusters=6, random_state=42)</pre></div> </div></div></div></div>"
      ],
      "text/plain": [
       "KMeans(n_clusters=6, random_state=42)"
      ]
     },
     "execution_count": 32,
     "metadata": {},
     "output_type": "execute_result"
    }
   ],
   "source": [
    "n_clusters = visualizer.elbow_value_\n",
    "\n",
    "kmeans = KMeans(n_clusters=n_clusters, random_state=42)\n",
    "kmeans.fit(emb_sent_df)"
   ]
  },
  {
   "cell_type": "code",
   "execution_count": 33,
   "metadata": {
    "metadata": {
     "tags": [
      "otter_ignore"
     ]
    },
    "tags": []
   },
   "outputs": [
    {
     "data": {
      "text/plain": [
       "42        2\n",
       "101       2\n",
       "129       4\n",
       "138       0\n",
       "163       3\n",
       "         ..\n",
       "231430    4\n",
       "231514    2\n",
       "231547    3\n",
       "231596    0\n",
       "231629    3\n",
       "Name: kmeans_labels, Length: 9100, dtype: int32"
      ]
     },
     "execution_count": 33,
     "metadata": {},
     "output_type": "execute_result"
    }
   ],
   "source": [
    "kmeans_labels = kmeans.labels_\n",
    "recipes_df['kmeans_labels'] = kmeans_labels\n",
    "recipes_df['kmeans_labels']"
   ]
  },
  {
   "cell_type": "markdown",
   "metadata": {
    "deletable": false,
    "editable": false
   },
   "source": [
    "<!-- END QUESTION -->\n",
    "\n",
    "<br><br><br><br>"
   ]
  },
  {
   "cell_type": "markdown",
   "metadata": {
    "deletable": false,
    "editable": false
   },
   "source": [
    "<!-- BEGIN QUESTION -->\n",
    "\n",
    "### 3.2 DBSCAN\n",
    "rubric={points:6}\n",
    "\n",
    "**Your tasks:**\n",
    "\n",
    "1. Cluster recipe names using `DBSCAN` with `metric=\"cosine\"`. Make some attempts to tune the  hyperparameters `eps` and `min_samples`. "
   ]
  },
  {
   "cell_type": "markdown",
   "metadata": {
    "deletable": false,
    "editable": false
   },
   "source": [
    "<div class=\"alert alert-warning\">\n",
    "\n",
    "Solution_3.2\n",
    "    \n",
    "</div>\n",
    "\n",
    "_Points:_ 6"
   ]
  },
  {
   "cell_type": "markdown",
   "metadata": {},
   "source": [
    "_Type your answer here, replacing this text._"
   ]
  },
  {
   "cell_type": "code",
   "execution_count": 34,
   "metadata": {},
   "outputs": [
    {
     "data": {
      "text/plain": [
       "(9100, 768)"
      ]
     },
     "execution_count": 34,
     "metadata": {},
     "output_type": "execute_result"
    }
   ],
   "source": [
    "emb_sent_df.shape"
   ]
  },
  {
   "cell_type": "code",
   "execution_count": 36,
   "metadata": {
    "metadata": {
     "tags": [
      "otter_ignore"
     ]
    },
    "tags": []
   },
   "outputs": [
    {
     "name": "stdout",
     "output_type": "stream",
     "text": [
      "[-1  0  1  2  3  4  5  6  7]\n"
     ]
    },
    {
     "data": {
      "text/plain": [
       "0.029740285"
      ]
     },
     "execution_count": 36,
     "metadata": {},
     "output_type": "execute_result"
    }
   ],
   "source": [
    "from sklearn.metrics import silhouette_score\n",
    "\n",
    "# eps = 0.4, min_samples = 5\n",
    "dbscan = DBSCAN(eps=0.4, min_samples=5, metric='cosine')\n",
    "dbscan_labels = dbscan.fit_predict(emb_sent_df)\n",
    "\n",
    "print(np.unique(dbscan_labels))\n",
    "\n",
    "silhouette_score(emb_sent_df, dbscan_labels, metric='cosine')"
   ]
  },
  {
   "cell_type": "code",
   "execution_count": 37,
   "metadata": {
    "tags": []
   },
   "outputs": [
    {
     "name": "stdout",
     "output_type": "stream",
     "text": [
      "[-1  0  1  2  3  4]\n"
     ]
    },
    {
     "data": {
      "text/plain": [
       "0.087772086"
      ]
     },
     "execution_count": 37,
     "metadata": {},
     "output_type": "execute_result"
    }
   ],
   "source": [
    "# eps = 0.4, min_samples = 4\n",
    "dbscan = DBSCAN(eps=0.4, min_samples=4, metric='cosine')\n",
    "dbscan_labels = dbscan.fit_predict(emb_sent_df)\n",
    "\n",
    "print(np.unique(dbscan_labels))\n",
    "\n",
    "silhouette_score(emb_sent_df, dbscan_labels, metric='cosine')"
   ]
  },
  {
   "cell_type": "code",
   "execution_count": 38,
   "metadata": {},
   "outputs": [
    {
     "name": "stdout",
     "output_type": "stream",
     "text": [
      "[-1  0  1  2  3  4  5  6  7  8  9 10 11 12 13 14 15 16 17 18 19 20 21 22\n",
      " 23 24 25]\n"
     ]
    },
    {
     "data": {
      "text/plain": [
       "-0.008147944"
      ]
     },
     "execution_count": 38,
     "metadata": {},
     "output_type": "execute_result"
    }
   ],
   "source": [
    "# eps = 0.4, min_samples = 3\n",
    "dbscan = DBSCAN(eps=0.4, min_samples=3, metric='cosine')\n",
    "dbscan_labels = dbscan.fit_predict(emb_sent_df)\n",
    "\n",
    "print(np.unique(dbscan_labels))\n",
    "\n",
    "silhouette_score(emb_sent_df, dbscan_labels, metric='cosine')"
   ]
  },
  {
   "cell_type": "code",
   "execution_count": 39,
   "metadata": {},
   "outputs": [
    {
     "name": "stdout",
     "output_type": "stream",
     "text": [
      "[-1  0  1  2  3  4  5  6  7  8  9 10 11 12 13 14 15 16 17 18 19 20]\n"
     ]
    },
    {
     "data": {
      "text/plain": [
       "-0.08548907"
      ]
     },
     "execution_count": 39,
     "metadata": {},
     "output_type": "execute_result"
    }
   ],
   "source": [
    "# eps = 0.35, min_samples = 4\n",
    "dbscan = DBSCAN(eps=0.35, min_samples=4, metric='cosine')\n",
    "dbscan_labels = dbscan.fit_predict(emb_sent_df)\n",
    "\n",
    "print(np.unique(dbscan_labels))\n",
    "\n",
    "silhouette_score(emb_sent_df, dbscan_labels, metric='cosine')"
   ]
  },
  {
   "cell_type": "code",
   "execution_count": 40,
   "metadata": {},
   "outputs": [
    {
     "name": "stdout",
     "output_type": "stream",
     "text": [
      "[-1  0  1  2  3  4  5  6  7  8]\n"
     ]
    },
    {
     "data": {
      "text/plain": [
       "0.034360364"
      ]
     },
     "execution_count": 40,
     "metadata": {},
     "output_type": "execute_result"
    }
   ],
   "source": [
    "# eps = 0.45, min_samples = 4\n",
    "dbscan = DBSCAN(eps=0.45, min_samples=4, metric='cosine')\n",
    "dbscan_labels = dbscan.fit_predict(emb_sent_df)\n",
    "\n",
    "print(np.unique(dbscan_labels))\n",
    "\n",
    "silhouette_score(emb_sent_df, dbscan_labels, metric='cosine')"
   ]
  },
  {
   "cell_type": "code",
   "execution_count": 41,
   "metadata": {},
   "outputs": [],
   "source": [
    "# Choose ep = 0.4, min_samples = 4\n",
    "\n",
    "dbscan = DBSCAN(eps=0.4, min_samples=4, metric='cosine')\n",
    "dbscan_labels = dbscan.fit_predict(emb_sent_df)\n",
    "\n",
    "recipes_df['dbscan_labels'] = dbscan_labels"
   ]
  },
  {
   "cell_type": "markdown",
   "metadata": {
    "deletable": false,
    "editable": false
   },
   "source": [
    "<!-- END QUESTION -->\n",
    "\n",
    "<br><br>"
   ]
  },
  {
   "cell_type": "markdown",
   "metadata": {
    "deletable": false,
    "editable": false
   },
   "source": [
    "<!-- BEGIN QUESTION -->\n",
    "\n",
    "### 3.3 Hierarchical clustering\n",
    "rubric={points:6}\n",
    "\n",
    "**Your tasks:**\n",
    "\n",
    "1. Try hierarchical clustering with `metric=\"cosine\"` on this problem. Show a dendrogram by using a suitable truncation method. \n",
    "2. Create flat clusters by cutting the tree at the appropriate level. \n",
    "\n",
    "> *Note: Try orientation=\"left\" of `dendrogram` for better readability of the dendrogram.*"
   ]
  },
  {
   "cell_type": "markdown",
   "metadata": {
    "deletable": false,
    "editable": false
   },
   "source": [
    "<div class=\"alert alert-warning\">\n",
    "\n",
    "Solution_3.3\n",
    "    \n",
    "</div>\n",
    "\n",
    "_Points:_ 6"
   ]
  },
  {
   "cell_type": "markdown",
   "metadata": {},
   "source": [
    "_Type your answer here, replacing this text._"
   ]
  },
  {
   "cell_type": "code",
   "execution_count": 42,
   "metadata": {
    "metadata": {
     "tags": [
      "otter_ignore"
     ]
    },
    "tags": []
   },
   "outputs": [
    {
     "data": {
      "text/plain": [
       "{'icoord': [[15.0, 15.0, 25.0, 25.0],\n",
       "  [5.0, 5.0, 20.0, 20.0],\n",
       "  [45.0, 45.0, 55.0, 55.0],\n",
       "  [35.0, 35.0, 50.0, 50.0],\n",
       "  [85.0, 85.0, 95.0, 95.0],\n",
       "  [75.0, 75.0, 90.0, 90.0],\n",
       "  [65.0, 65.0, 82.5, 82.5],\n",
       "  [42.5, 42.5, 73.75, 73.75],\n",
       "  [12.5, 12.5, 58.125, 58.125]],\n",
       " 'dcoord': [[0.0, 1.141441780160796, 1.141441780160796, 0.0],\n",
       "  [0.0, 1.1547848483654124, 1.1547848483654124, 1.141441780160796],\n",
       "  [0.0, 1.1440823226447263, 1.1440823226447263, 0.0],\n",
       "  [0.0, 1.1840743358619312, 1.1840743358619312, 1.1440823226447263],\n",
       "  [0.0, 1.15348648839784, 1.15348648839784, 0.0],\n",
       "  [0.0, 1.1637065542214586, 1.1637065542214586, 1.15348648839784],\n",
       "  [0.0, 1.1901797027649006, 1.1901797027649006, 1.1637065542214586],\n",
       "  [1.1840743358619312,\n",
       "   1.2023316620953022,\n",
       "   1.2023316620953022,\n",
       "   1.1901797027649006],\n",
       "  [1.1547848483654124,\n",
       "   1.2311314091200356,\n",
       "   1.2311314091200356,\n",
       "   1.2023316620953022]],\n",
       " 'ivl': ['(170)',\n",
       "  '(288)',\n",
       "  '(328)',\n",
       "  '(3042)',\n",
       "  '(422)',\n",
       "  '(173)',\n",
       "  '(3851)',\n",
       "  '(208)',\n",
       "  '(250)',\n",
       "  '(368)'],\n",
       " 'leaves': [18186,\n",
       "  18167,\n",
       "  18185,\n",
       "  18187,\n",
       "  18168,\n",
       "  18169,\n",
       "  18189,\n",
       "  18188,\n",
       "  18182,\n",
       "  18184],\n",
       " 'color_list': ['C0', 'C0', 'C0', 'C0', 'C0', 'C0', 'C0', 'C0', 'C0'],\n",
       " 'leaves_color_list': ['C0',\n",
       "  'C0',\n",
       "  'C0',\n",
       "  'C0',\n",
       "  'C0',\n",
       "  'C0',\n",
       "  'C0',\n",
       "  'C0',\n",
       "  'C0',\n",
       "  'C0']}"
      ]
     },
     "execution_count": 42,
     "metadata": {},
     "output_type": "execute_result"
    },
    {
     "data": {
      "image/png": "[encoded data removed]",
      "text/plain": [
       "<Figure size 800x550 with 1 Axes>"
      ]
     },
     "metadata": {},
     "output_type": "display_data"
    }
   ],
   "source": [
    "Z = linkage(emb_sent_df, method='complete', metric='cosine')\n",
    "\n",
    "dendrogram(Z, orientation='left', labels=recipes_df['name'].tolist(), truncate_mode='lastp', p=10)"
   ]
  },
  {
   "cell_type": "code",
   "execution_count": 43,
   "metadata": {
    "metadata": {
     "tags": [
      "otter_ignore"
     ]
    },
    "tags": []
   },
   "outputs": [],
   "source": [
    "hier_emb_labels = fcluster(Z, 10, criterion=\"maxclust\")"
   ]
  },
  {
   "cell_type": "code",
   "execution_count": 44,
   "metadata": {
    "metadata": {
     "tags": [
      "otter_ignore"
     ]
    },
    "tags": []
   },
   "outputs": [],
   "source": [
    "recipes_df['hier_labels'] = hier_emb_labels"
   ]
  },
  {
   "cell_type": "code",
   "execution_count": 45,
   "metadata": {
    "tags": []
   },
   "outputs": [
    {
     "name": "stdout",
     "output_type": "stream",
     "text": [
      "[0 1 2 3 4 5]\n",
      "[-1  0  1  2  3  4]\n",
      "[ 1  2  3  4  5  6  7  8  9 10]\n"
     ]
    }
   ],
   "source": [
    "print(np.unique(kmeans_labels))\n",
    "print(np.unique(dbscan_labels))\n",
    "print(np.unique(hier_emb_labels))"
   ]
  },
  {
   "cell_type": "code",
   "execution_count": null,
   "metadata": {
    "tags": []
   },
   "outputs": [],
   "source": []
  },
  {
   "cell_type": "markdown",
   "metadata": {
    "deletable": false,
    "editable": false
   },
   "source": [
    "<!-- END QUESTION -->\n",
    "\n",
    "<br><br>"
   ]
  },
  {
   "cell_type": "markdown",
   "metadata": {
    "deletable": false,
    "editable": false
   },
   "source": [
    "<!-- BEGIN QUESTION -->\n",
    "\n",
    "### 3.4 Manual interpretation of clusters\n",
    "rubric={points:6}\n",
    "\n",
    "**Your tasks:**\n",
    "\n",
    "1. Label the topics/themes you see in the clusters created by different clustering methods.  \n",
    "2. Do you see a common theme across clusters created by different clustering methods? Do you see any differences between the clusters created by different clustering methods? "
   ]
  },
  {
   "cell_type": "markdown",
   "metadata": {
    "deletable": false,
    "editable": false
   },
   "source": [
    "<div class=\"alert alert-warning\">\n",
    "\n",
    "Solution_3.4\n",
    "    \n",
    "</div>\n",
    "\n",
    "_Points:_ 6"
   ]
  },
  {
   "cell_type": "code",
   "execution_count": 46,
   "metadata": {},
   "outputs": [
    {
     "name": "stdout",
     "output_type": "stream",
     "text": [
      "                                               name  kmeans_labels\n",
      "138  lplermagronen                                   0            \n",
      "456  marco    polenta                                0            \n",
      "42   i yam what i yam  muffins                       2            \n",
      "101  to your health  muffins                         2            \n",
      "484  oh boy  waffles                                 2            \n",
      "262  real new york style  cheesecake supreme         2            \n",
      "465  mom s chicken                                   3            \n",
      "436  kelly s chinese cabbage salad                   3            \n",
      "418  i coulda had a stuffed pepper  stuffed peppers  3            \n",
      "399  green  soup                                     3            \n",
      "337  buffalo wing  mushrooms                         3            \n",
      "169  chef salad  dressing                            3            \n",
      "163  california roll   salad                         3            \n",
      "493  orange  soup                                    3            \n",
      "449  lofthouse  sugar cookies                        4            \n",
      "129  250 00 chocolate chip cookies                   4            \n",
      "492  oops  there it is   chocolate cake low fat      5            \n",
      "318  aunt johnnie s   pound cake                     5            \n",
      "234  ma s  oatmeal cake and icing                    5            \n",
      "390  funny bones  cake                               5            \n"
     ]
    }
   ],
   "source": [
    "print(recipes_df[[\"name\", \"kmeans_labels\"]].head(20).sort_values('kmeans_labels'))"
   ]
  },
  {
   "cell_type": "markdown",
   "metadata": {},
   "source": [
    "Just looking at the top 20 results for kmeans, cake seems to be a common theme for cluster 5, cookies for 4, entrees/appetizers for 3, muffins for 2, and just incomprehensible names for 0. "
   ]
  },
  {
   "cell_type": "code",
   "execution_count": 47,
   "metadata": {},
   "outputs": [
    {
     "name": "stdout",
     "output_type": "stream",
     "text": [
      "                                               name  dbscan_labels\n",
      "42   i yam what i yam  muffins                       0            \n",
      "101  to your health  muffins                         0            \n",
      "129  250 00 chocolate chip cookies                   0            \n",
      "163  california roll   salad                         0            \n",
      "169  chef salad  dressing                            0            \n",
      "234  ma s  oatmeal cake and icing                    0            \n",
      "262  real new york style  cheesecake supreme         0            \n",
      "318  aunt johnnie s   pound cake                     0            \n",
      "390  funny bones  cake                               0            \n",
      "399  green  soup                                     0            \n",
      "418  i coulda had a stuffed pepper  stuffed peppers  0            \n",
      "436  kelly s chinese cabbage salad                   0            \n",
      "449  lofthouse  sugar cookies                        0            \n",
      "465  mom s chicken                                   0            \n",
      "484  oh boy  waffles                                 0            \n",
      "                   name  dbscan_labels\n",
      "23718  biscuit balls     1            \n",
      "23735  biscuit sliders   1            \n",
      "23752  biscuits          1            \n",
      "23770  biscuits supreme  1            \n",
      "31647  buscuits          1            \n",
      "                      name  dbscan_labels\n",
      "24594   black lady          2            \n",
      "25596   blue lady           2            \n",
      "25682   blue star           2            \n",
      "226496  white lady          2            \n",
      "226497  white lady  no egg  2            \n",
      "                     name  dbscan_labels\n",
      "27265   bourbon sidecar    3            \n",
      "34253   calvados sidecars  3            \n",
      "54913   classic sidecar    3            \n",
      "66957   crown sidecar      3            \n",
      "156691  pear sidecar       3            \n",
      "                                 name  dbscan_labels\n",
      "1885    a day at the beach             4            \n",
      "63800   creamy sex on the beach        4            \n",
      "88512   frozen sex on the beach        4            \n",
      "135460  midori sex on the beach        4            \n",
      "210309  tgi friday s sex on the beach  4            \n"
     ]
    }
   ],
   "source": [
    "print(recipes_df[[\"name\", \"dbscan_labels\"]].query('dbscan_labels == 0').head(15))\n",
    "print(recipes_df[[\"name\", \"dbscan_labels\"]].query('dbscan_labels == 1').head(15))\n",
    "print(recipes_df[[\"name\", \"dbscan_labels\"]].query('dbscan_labels == 2').head(15))\n",
    "print(recipes_df[[\"name\", \"dbscan_labels\"]].query('dbscan_labels == 3').head(15))\n",
    "print(recipes_df[[\"name\", \"dbscan_labels\"]].query('dbscan_labels == 4').head(15))"
   ]
  },
  {
   "cell_type": "markdown",
   "metadata": {},
   "source": [
    "For dbscans, it seems to cluster based on the last subsection of words, then any other unidentifiable ones get placed together in the 0 cluster. The first cluster is based on biscuits, the second based on lady, the third based on sidecar, and the last based on beach."
   ]
  },
  {
   "cell_type": "code",
   "execution_count": 48,
   "metadata": {
    "scrolled": true
   },
   "outputs": [
    {
     "name": "stdout",
     "output_type": "stream",
     "text": [
      "Empty DataFrame\n",
      "Columns: [name, hier_labels]\n",
      "Index: []\n",
      "                                               name  hier_labels\n",
      "1621  5 0 cosmo                                      1          \n",
      "1760  7 layer elote dip                              1          \n",
      "2296  absolute stress  alcoholic  pineapple version  1          \n",
      "2834  afterburner                                    1          \n",
      "2835  afterburner  3                                 1          \n",
      "3032  alabammy delight                               1          \n",
      "3726  almond dip                                     1          \n",
      "4574  amazing braise                                 1          \n",
      "4848  american country fare                          1          \n",
      "4850  american dream                                 1          \n",
      "4852  american flag                                  1          \n",
      "5147  an elbow in the boobs                          1          \n",
      "5949  anything dip                                   1          \n",
      "8363  aqua marine                                    1          \n",
      "9065  asiago dip                                     1          \n",
      "                                    name  hier_labels\n",
      "735    007 cocktail                       2          \n",
      "2274   abs diet ultimate power smoothie   2          \n",
      "2616   adult cherry cola drink            2          \n",
      "2740   african lullaby                    2          \n",
      "2841   afternoon pick me up               2          \n",
      "4709   amazing strawberry fruit dip       2          \n",
      "7092   apple pie frosty protein smoothie  2          \n",
      "8040   apricot chill smoothie             2          \n",
      "8444   arctic wastes smoothie             2          \n",
      "8446   are you crazy    alcoholic drink   2          \n",
      "9368   asian orange juice                 2          \n",
      "15704  balsamic   red wine  dressing      2          \n",
      "16170  banana blackberry pie  smoothie    2          \n",
      "16936  banana raspberry smoothie  vegan   2          \n",
      "17344  banberry surprise                  2          \n",
      "                          name  hier_labels\n",
      "456   marco    polenta          3          \n",
      "589   57 chevy                  3          \n",
      "1141  220 btu                   3          \n",
      "1811  8th birthday              3          \n",
      "1885  a day at the beach        3          \n",
      "2248  abehjerne  monkey brains  3          \n",
      "2324  absolutely heaven         3          \n",
      "2804  after 8 shooter           3          \n",
      "2811  after eight               3          \n",
      "3679  almond cow                3          \n",
      "3761  almond half moons         3          \n",
      "3776  almond joy                3          \n",
      "3796  almond joy latte          3          \n",
      "3806  almond latt               3          \n",
      "3832  almond mocha              3          \n",
      "                                                  name  hier_labels\n",
      "163   california roll   salad                           4          \n",
      "169   chef salad  dressing                              4          \n",
      "399   green  soup                                       4          \n",
      "493   orange  soup                                      4          \n",
      "514   ritz  y chicken                                   4          \n",
      "683   spicy  pasta fagioli                              4          \n",
      "849   10 minute baked halibut with garlic butter sauce  4          \n",
      "876   100  parmesan chicken                             4          \n",
      "971   15 minute taco in a pan                           4          \n",
      "989   16 bean soup  crockpot                            4          \n",
      "1006  1905 salad dressing recipe                        4          \n",
      "1023  1950 s meatloaf                                   4          \n",
      "1039  2 bean chili                                      4          \n",
      "1139  22 second salad                                   4          \n",
      "1196  3   potato grill packet                           4          \n"
     ]
    }
   ],
   "source": [
    "print(recipes_df[[\"name\", \"hier_labels\"]].query('hier_labels == 0').head(15))\n",
    "print(recipes_df[[\"name\", \"hier_labels\"]].query('hier_labels == 1').head(15))\n",
    "print(recipes_df[[\"name\", \"hier_labels\"]].query('hier_labels == 2').head(15))\n",
    "print(recipes_df[[\"name\", \"hier_labels\"]].query('hier_labels == 3').head(15))\n",
    "print(recipes_df[[\"name\", \"hier_labels\"]].query('hier_labels == 4').head(15))"
   ]
  },
  {
   "cell_type": "markdown",
   "metadata": {},
   "source": [
    "It's hard to identify any cluster themes with hierarchical clustering. For the second label, fruits seem to be the theme. Whereas for the third label, almond seems to be the common pattern. For the 4th label, the inclusion of numbers seem to dominate the category."
   ]
  },
  {
   "cell_type": "markdown",
   "metadata": {},
   "source": [
    "Overall, the different methods in clustering seem to provide very different results."
   ]
  },
  {
   "cell_type": "markdown",
   "metadata": {
    "deletable": false,
    "editable": false
   },
   "source": [
    "<!-- END QUESTION -->\n",
    "\n",
    "<br><br><br><br>"
   ]
  },
  {
   "cell_type": "markdown",
   "metadata": {},
   "source": [
    "**Before submitting your assignment, please make sure you have followed all the instructions in the Submission instructions section at the top.** "
   ]
  },
  {
   "cell_type": "markdown",
   "metadata": {},
   "source": [
    "![](img/eva-well-done.png)"
   ]
  }
 ],
 "metadata": {
  "kernelspec": {
   "display_name": "Python [conda env:cpsc330] *",
   "language": "python",
   "name": "conda-env-cpsc330-py"
  },
  "language_info": {
   "codemirror_mode": {
    "name": "ipython",
    "version": 3
   },
   "file_extension": ".py",
   "mimetype": "text/x-python",
   "name": "python",
   "nbconvert_exporter": "python",
   "pygments_lexer": "ipython3",
   "version": "3.12.0"
  },
  "otter": {
   "OK_FORMAT": true,
   "tests": {}
  }
 },
 "nbformat": 4,
 "nbformat_minor": 4
}
